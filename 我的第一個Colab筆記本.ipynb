{
  "nbformat": 4,
  "nbformat_minor": 0,
  "metadata": {
    "colab": {
      "name": "我的第一個Colab筆記本.ipynb",
      "provenance": [],
      "collapsed_sections": [],
      "authorship_tag": "ABX9TyPaRn+NlC7T6fg/IW2Vaxgc",
      "include_colab_link": true
    },
    "kernelspec": {
      "name": "python3",
      "display_name": "Python 3"
    },
    "language_info": {
      "name": "python"
    }
  },
  "cells": [
    {
      "cell_type": "markdown",
      "metadata": {
        "id": "view-in-github",
        "colab_type": "text"
      },
      "source": [
        "<a href=\"https://colab.research.google.com/github/Grace-TA/AI2021/blob/main/%E6%88%91%E7%9A%84%E7%AC%AC%E4%B8%80%E5%80%8BColab%E7%AD%86%E8%A8%98%E6%9C%AC.ipynb\" target=\"_parent\"><img src=\"https://colab.research.google.com/assets/colab-badge.svg\" alt=\"Open In Colab\"/></a>"
      ]
    },
    {
      "cell_type": "code",
      "metadata": {
        "colab": {
          "base_uri": "https://localhost:8080/"
        },
        "id": "S8ETkuEBtFgs",
        "outputId": "c90a55c7-b794-40f6-c97d-5a91088d0afe"
      },
      "source": [
        "print('Hello Taiwan!!!!')"
      ],
      "execution_count": null,
      "outputs": [
        {
          "output_type": "stream",
          "name": "stdout",
          "text": [
            "Hello Taiwan!!!!\n"
          ]
        }
      ]
    },
    {
      "cell_type": "code",
      "metadata": {
        "id": "KkZexx-WImc0",
        "outputId": "33c3b1db-3eed-449c-90e1-bd167ed23114",
        "colab": {
          "base_uri": "https://localhost:8080/"
        }
      },
      "source": [
        "print('hello, I love Taiwan')"
      ],
      "execution_count": 1,
      "outputs": [
        {
          "output_type": "stream",
          "name": "stdout",
          "text": [
            "hello, I love Taiwan\n"
          ]
        }
      ]
    },
    {
      "cell_type": "markdown",
      "metadata": {
        "id": "hfO0l6q9tzlJ"
      },
      "source": [
        "# Hello Taiwan\n",
        "## Hello Taiwan\n",
        "### Hello Taiwan\n",
        "#### Hello Taiwan\n",
        "\n",
        "* Hello Colab\n",
        "* Hello Colab\n"
      ]
    },
    {
      "cell_type": "markdown",
      "metadata": {
        "id": "eLNzD54DwyUn"
      },
      "source": [
        "# 我的第一個JBN.ipynb"
      ]
    },
    {
      "cell_type": "code",
      "metadata": {
        "colab": {
          "base_uri": "https://localhost:8080/"
        },
        "id": "2g_uCztyuWsZ",
        "outputId": "a923880b-e92f-4269-c5c9-a49f5df11a5b"
      },
      "source": [
        "# 第是我的第一支Python程式, 用Google Colab完成\n",
        "\n",
        "x = 3\n",
        "print(x, x*2, x+5, x-1, x/3)\n",
        "print(\"x=%d, x*2=%d, x+5=%d, x-1=%d, x/3=%f\" % (x, x*2, x+5, x-1, x/3))\n",
        "\n",
        "# From classmate\n",
        "print(\"x=%d, x*2=%d, x+5=%d, x-1=%d, x/3=%f\" % (x, x*2, x+5, x-1, x/3))\n",
        "\n",
        "print(\"x=%2d, x*2=%2d, x+5=%2d, x-1=%2d, x/3=%.1f\" % (x, x*2, x+5, x-1, x/3))"
      ],
      "execution_count": null,
      "outputs": [
        {
          "output_type": "stream",
          "name": "stdout",
          "text": [
            "3 6 8 2 1.0\n",
            "x=3, x*2=6, x+5=8, x-1=2, x/3=1.000000\n",
            "x=3, x*2=6, x+5=8, x-1=2, x/3=1.000000\n",
            "x= 3, x*2= 6, x+5= 8, x-1= 2, x/3=1.0\n"
          ]
        }
      ]
    },
    {
      "cell_type": "code",
      "metadata": {
        "colab": {
          "base_uri": "https://localhost:8080/"
        },
        "id": "wY6iTlYUv0_H",
        "outputId": "93a47a71-95b6-4248-9fc9-30fa2dcd0e95"
      },
      "source": [
        "i = 100\n",
        "print('i=?', i)\n",
        "\n",
        "i + 10\n",
        "print('i=?', i)\n",
        "\n",
        "i = i + 10\n",
        "print('i=?', i)\n"
      ],
      "execution_count": null,
      "outputs": [
        {
          "output_type": "stream",
          "name": "stdout",
          "text": [
            "i=? 100\n",
            "i=? 100\n",
            "i=? 110\n"
          ]
        }
      ]
    }
  ]
}