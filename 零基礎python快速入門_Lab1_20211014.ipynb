{
  "nbformat": 4,
  "nbformat_minor": 0,
  "metadata": {
    "colab": {
      "name": "零基礎python快速入門_Lab1_20211014.ipynb_",
      "provenance": [],
      "collapsed_sections": [],
      "include_colab_link": true
    },
    "kernelspec": {
      "display_name": "Python 3",
      "language": "python",
      "name": "python3"
    },
    "language_info": {
      "codemirror_mode": {
        "name": "ipython",
        "version": 3
      },
      "file_extension": ".py",
      "mimetype": "text/x-python",
      "name": "python",
      "nbconvert_exporter": "python",
      "pygments_lexer": "ipython3",
      "version": "3.7.6"
    }
  },
  "cells": [
    {
      "cell_type": "markdown",
      "metadata": {
        "id": "view-in-github",
        "colab_type": "text"
      },
      "source": [
        "<a href=\"https://colab.research.google.com/github/Grace-TA/AI2021/blob/main/%E9%9B%B6%E5%9F%BA%E7%A4%8Epython%E5%BF%AB%E9%80%9F%E5%85%A5%E9%96%80_Lab1_20211014.ipynb\" target=\"_parent\"><img src=\"https://colab.research.google.com/assets/colab-badge.svg\" alt=\"Open In Colab\"/></a>"
      ]
    },
    {
      "cell_type": "markdown",
      "metadata": {
        "id": "dzNng6vCL9eP"
      },
      "source": [
        "#使用Google Colab的Python零基礎快速入門教程\n",
        "\n",
        "\n",
        "Prepared by Horace, Date: October, 2021"
      ]
    },
    {
      "cell_type": "markdown",
      "metadata": {
        "id": "0vJLt3JRL9eR"
      },
      "source": [
        "* Colaboratory (簡稱為「Colab」) 可讓你在瀏覽器上撰寫及執行 Python. \n",
        "* Colab 筆記本的互動式環境，可讓你撰寫和執行程式碼"
      ]
    },
    {
      "cell_type": "markdown",
      "metadata": {
        "id": "qVrTo-LhL9eS"
      },
      "source": [
        "## 介紹\n",
        "\n",
        "> Python 本身就是一種出色的通用編程語言，但在一些流行庫（例如: numpy、matplotlib）的幫助下，它成為了一個強大的科學計算環境。我們希望本節將作為Python 編程語言和人工智慧學習中的使用速成課程。\n"
      ]
    },
    {
      "cell_type": "markdown",
      "metadata": {
        "id": "U1PvreR9L9eW"
      },
      "source": [
        "## 在本教程中，我們將介紹：\n",
        "\n",
        "* Python必學: Basic data types (Containers, Lists, Dictionaries, Sets, Tuples), loops, flow control, Functions, Classes\n",
        "* 作圖模組 (Matplotlib): Plotting, Subplots, Images"
      ]
    },
    {
      "cell_type": "code",
      "metadata": {
        "id": "1L4Am0QATgOc",
        "colab": {
          "base_uri": "https://localhost:8080/"
        },
        "outputId": "0ccd6abc-715d-4f29-c8b4-438a077c0c2c"
      },
      "source": [
        "# P1101\n",
        "!python --version #  Python 版本確認\n"
      ],
      "execution_count": null,
      "outputs": [
        {
          "output_type": "stream",
          "name": "stdout",
          "text": [
            "Python 3.7.12\n"
          ]
        }
      ]
    },
    {
      "cell_type": "markdown",
      "metadata": {
        "id": "jd7l_3zPXJ6o"
      },
      "source": [
        "### 模組(Module)??\n",
        "> 模組(Module)就是一個檔案，包含了相關性較高的程式碼。隨著應用程式的開發規模越來越大，我們不可能把所有的程式碼都寫在同一份Python檔案中，一定會將關聯性較高的程式碼抽出來放在不同的檔案中來形成模組(Module)，主程式再透過引用的方式來使用。所以模組(Module)可以提高程式碼的重用性(Reusable)且易於維護。"
      ]
    },
    {
      "cell_type": "code",
      "metadata": {
        "id": "rCRaI67BTM4V",
        "colab": {
          "base_uri": "https://localhost:8080/"
        },
        "outputId": "7ef8f8ff-fcd8-4621-c4f5-96e4855fc953"
      },
      "source": [
        "# P1102 載入Python calendar模組, 輸出月曆\n",
        "import calendar\n",
        "print(calendar.calendar(2021))"
      ],
      "execution_count": null,
      "outputs": [
        {
          "output_type": "stream",
          "name": "stdout",
          "text": [
            "                                  2021\n",
            "\n",
            "      January                   February                   March\n",
            "Mo Tu We Th Fr Sa Su      Mo Tu We Th Fr Sa Su      Mo Tu We Th Fr Sa Su\n",
            "             1  2  3       1  2  3  4  5  6  7       1  2  3  4  5  6  7\n",
            " 4  5  6  7  8  9 10       8  9 10 11 12 13 14       8  9 10 11 12 13 14\n",
            "11 12 13 14 15 16 17      15 16 17 18 19 20 21      15 16 17 18 19 20 21\n",
            "18 19 20 21 22 23 24      22 23 24 25 26 27 28      22 23 24 25 26 27 28\n",
            "25 26 27 28 29 30 31                                29 30 31\n",
            "\n",
            "       April                      May                       June\n",
            "Mo Tu We Th Fr Sa Su      Mo Tu We Th Fr Sa Su      Mo Tu We Th Fr Sa Su\n",
            "          1  2  3  4                      1  2          1  2  3  4  5  6\n",
            " 5  6  7  8  9 10 11       3  4  5  6  7  8  9       7  8  9 10 11 12 13\n",
            "12 13 14 15 16 17 18      10 11 12 13 14 15 16      14 15 16 17 18 19 20\n",
            "19 20 21 22 23 24 25      17 18 19 20 21 22 23      21 22 23 24 25 26 27\n",
            "26 27 28 29 30            24 25 26 27 28 29 30      28 29 30\n",
            "                          31\n",
            "\n",
            "        July                     August                  September\n",
            "Mo Tu We Th Fr Sa Su      Mo Tu We Th Fr Sa Su      Mo Tu We Th Fr Sa Su\n",
            "          1  2  3  4                         1             1  2  3  4  5\n",
            " 5  6  7  8  9 10 11       2  3  4  5  6  7  8       6  7  8  9 10 11 12\n",
            "12 13 14 15 16 17 18       9 10 11 12 13 14 15      13 14 15 16 17 18 19\n",
            "19 20 21 22 23 24 25      16 17 18 19 20 21 22      20 21 22 23 24 25 26\n",
            "26 27 28 29 30 31         23 24 25 26 27 28 29      27 28 29 30\n",
            "                          30 31\n",
            "\n",
            "      October                   November                  December\n",
            "Mo Tu We Th Fr Sa Su      Mo Tu We Th Fr Sa Su      Mo Tu We Th Fr Sa Su\n",
            "             1  2  3       1  2  3  4  5  6  7             1  2  3  4  5\n",
            " 4  5  6  7  8  9 10       8  9 10 11 12 13 14       6  7  8  9 10 11 12\n",
            "11 12 13 14 15 16 17      15 16 17 18 19 20 21      13 14 15 16 17 18 19\n",
            "18 19 20 21 22 23 24      22 23 24 25 26 27 28      20 21 22 23 24 25 26\n",
            "25 26 27 28 29 30 31      29 30                     27 28 29 30 31\n",
            "\n"
          ]
        }
      ]
    },
    {
      "cell_type": "code",
      "metadata": {
        "id": "PXZD7m4M9_Kn",
        "colab": {
          "base_uri": "https://localhost:8080/"
        },
        "outputId": "10ec81c2-faf2-4662-879c-04378fd94001"
      },
      "source": [
        "### 實作1101, 印出明年的年曆(2022) \n",
        "\n",
        "print(calendar.calendar(2022))"
      ],
      "execution_count": null,
      "outputs": [
        {
          "output_type": "stream",
          "name": "stdout",
          "text": [
            "                                  2022\n",
            "\n",
            "      January                   February                   March\n",
            "Mo Tu We Th Fr Sa Su      Mo Tu We Th Fr Sa Su      Mo Tu We Th Fr Sa Su\n",
            "                1  2          1  2  3  4  5  6          1  2  3  4  5  6\n",
            " 3  4  5  6  7  8  9       7  8  9 10 11 12 13       7  8  9 10 11 12 13\n",
            "10 11 12 13 14 15 16      14 15 16 17 18 19 20      14 15 16 17 18 19 20\n",
            "17 18 19 20 21 22 23      21 22 23 24 25 26 27      21 22 23 24 25 26 27\n",
            "24 25 26 27 28 29 30      28                        28 29 30 31\n",
            "31\n",
            "\n",
            "       April                      May                       June\n",
            "Mo Tu We Th Fr Sa Su      Mo Tu We Th Fr Sa Su      Mo Tu We Th Fr Sa Su\n",
            "             1  2  3                         1             1  2  3  4  5\n",
            " 4  5  6  7  8  9 10       2  3  4  5  6  7  8       6  7  8  9 10 11 12\n",
            "11 12 13 14 15 16 17       9 10 11 12 13 14 15      13 14 15 16 17 18 19\n",
            "18 19 20 21 22 23 24      16 17 18 19 20 21 22      20 21 22 23 24 25 26\n",
            "25 26 27 28 29 30         23 24 25 26 27 28 29      27 28 29 30\n",
            "                          30 31\n",
            "\n",
            "        July                     August                  September\n",
            "Mo Tu We Th Fr Sa Su      Mo Tu We Th Fr Sa Su      Mo Tu We Th Fr Sa Su\n",
            "             1  2  3       1  2  3  4  5  6  7                1  2  3  4\n",
            " 4  5  6  7  8  9 10       8  9 10 11 12 13 14       5  6  7  8  9 10 11\n",
            "11 12 13 14 15 16 17      15 16 17 18 19 20 21      12 13 14 15 16 17 18\n",
            "18 19 20 21 22 23 24      22 23 24 25 26 27 28      19 20 21 22 23 24 25\n",
            "25 26 27 28 29 30 31      29 30 31                  26 27 28 29 30\n",
            "\n",
            "      October                   November                  December\n",
            "Mo Tu We Th Fr Sa Su      Mo Tu We Th Fr Sa Su      Mo Tu We Th Fr Sa Su\n",
            "                1  2          1  2  3  4  5  6                1  2  3  4\n",
            " 3  4  5  6  7  8  9       7  8  9 10 11 12 13       5  6  7  8  9 10 11\n",
            "10 11 12 13 14 15 16      14 15 16 17 18 19 20      12 13 14 15 16 17 18\n",
            "17 18 19 20 21 22 23      21 22 23 24 25 26 27      19 20 21 22 23 24 25\n",
            "24 25 26 27 28 29 30      28 29 30                  26 27 28 29 30 31\n",
            "31\n",
            "\n"
          ]
        }
      ]
    },
    {
      "cell_type": "code",
      "metadata": {
        "id": "_2wHf3qVUheO",
        "colab": {
          "base_uri": "https://localhost:8080/"
        },
        "outputId": "a33973bd-dd61-49e5-d94c-1704e1b83065"
      },
      "source": [
        "# P1103\n",
        "from math import pi\n",
        "print(pi)\n",
        "print('pi= ', pi)\n",
        "print('pi= %.6f' % pi)\n",
        "print('pi= %.3f' % pi)\n",
        "print('pi= %.2f' % pi)\n",
        "print('pi= %d' % pi)"
      ],
      "execution_count": null,
      "outputs": [
        {
          "output_type": "stream",
          "name": "stdout",
          "text": [
            "3.141592653589793\n",
            "pi=  3.141592653589793\n",
            "pi= 3.141593\n",
            "pi= 3.142\n",
            "pi= 3.14\n",
            "pi= 3\n"
          ]
        }
      ]
    },
    {
      "cell_type": "code",
      "metadata": {
        "id": "doTFa08KX40k",
        "colab": {
          "base_uri": "https://localhost:8080/"
        },
        "outputId": "dc4bd517-1287-4c2b-f727-4318c7f53f18"
      },
      "source": [
        "# P1104\n",
        "print('學AI真是太酷了!!') #print顯示的內容必須是字串或是變數"
      ],
      "execution_count": null,
      "outputs": [
        {
          "output_type": "stream",
          "name": "stdout",
          "text": [
            "學AI真是太酷了!!\n"
          ]
        }
      ]
    },
    {
      "cell_type": "markdown",
      "metadata": {
        "id": "JAFKYgrpL9eY"
      },
      "source": [
        "###Basics of Python\n",
        "\n",
        "> Python 是一種高級的、動態類型的多範式編程語言。 Python 代碼通常被認為幾乎像偽代碼，因為它允許您用很少的代碼行表達非常強大的想法，同時又非常易讀。"
      ]
    },
    {
      "cell_type": "markdown",
      "metadata": {
        "id": "NwS_hu4xL9eo"
      },
      "source": [
        "###常用運算符號\n",
        "\n",
        "+（加）、-（減）、*（乘）、/（除）、%（取餘數）"
      ]
    },
    {
      "cell_type": "markdown",
      "metadata": {
        "id": "DL5sMSZ9L9eq"
      },
      "source": [
        "####Numbers"
      ]
    },
    {
      "cell_type": "code",
      "metadata": {
        "id": "KheDr_zDL9es",
        "colab": {
          "base_uri": "https://localhost:8080/"
        },
        "outputId": "e4a6aac6-24d1-45ee-c612-3ade1ecf130d"
      },
      "source": [
        "# P1105\n",
        "x = 3\n",
        "print(x, x+x, x*x)"
      ],
      "execution_count": null,
      "outputs": [
        {
          "output_type": "stream",
          "name": "stdout",
          "text": [
            "3 6 9\n"
          ]
        }
      ]
    },
    {
      "cell_type": "code",
      "metadata": {
        "id": "sk_8DFcuL9ey",
        "colab": {
          "base_uri": "https://localhost:8080/"
        },
        "outputId": "192f0884-7ae8-4a4c-ea31-e1533a6506dd"
      },
      "source": [
        "# P1106\n",
        "print(x + 1)   # 加法,Addition\n",
        "print(x - 1)   # 減法,Subtraction\n",
        "print(x * 2)   # 乘法,Multiplication\n",
        "print(x ** 2)  # 指數,Exponentiation (3*3=9)"
      ],
      "execution_count": null,
      "outputs": [
        {
          "output_type": "stream",
          "name": "stdout",
          "text": [
            "4\n",
            "2\n",
            "6\n",
            "9\n"
          ]
        }
      ]
    },
    {
      "cell_type": "code",
      "metadata": {
        "id": "yPgsURrTVSZz",
        "colab": {
          "base_uri": "https://localhost:8080/"
        },
        "outputId": "ae59a7ce-2eb3-4701-df92-251d94ae00a9"
      },
      "source": [
        "# P1107\n",
        "print(x % 2)   # 取餘數, 3%2=1, 5%3=2\n",
        "print(x/2)     # 除法\n",
        "print(x//2)     # 整數除法\n",
        "print(x//4)"
      ],
      "execution_count": null,
      "outputs": [
        {
          "output_type": "stream",
          "name": "stdout",
          "text": [
            "1\n",
            "1.5\n",
            "1\n",
            "0\n"
          ]
        }
      ]
    },
    {
      "cell_type": "code",
      "metadata": {
        "id": "q77kfAVuC7ji",
        "colab": {
          "base_uri": "https://localhost:8080/"
        },
        "outputId": "dabc8bfa-548c-4b63-ca25-0651c6185c99"
      },
      "source": [
        "### 實作1110\n",
        "x = 2\n",
        "y = x + 5\n",
        "z = x * y\n",
        "a = x - 3\n",
        "b = 2**10\n",
        "print(x, y, z, a, b)\n",
        "print('x=%d, y=%d, z=%d, a=%d, b=%d' % (x, y, z, a, b))"
      ],
      "execution_count": null,
      "outputs": [
        {
          "output_type": "stream",
          "name": "stdout",
          "text": [
            "2 7 14 -1 1024\n",
            "x=2, y=7, z=14, a=-1, b=1024\n"
          ]
        }
      ]
    },
    {
      "cell_type": "code",
      "metadata": {
        "id": "U4Jl8K0tL9e4",
        "colab": {
          "base_uri": "https://localhost:8080/"
        },
        "outputId": "9ea6c369-a5f6-4e6f-83b0-a76b847db8b9"
      },
      "source": [
        "# P1108\n",
        "x = 2\n",
        "x += 1 # x = x + 1\n",
        "print(x)\n",
        "x *= 2 # x = x * 2 (i.e., x = 3*2 = 6)\n",
        "print(x)"
      ],
      "execution_count": null,
      "outputs": [
        {
          "output_type": "stream",
          "name": "stdout",
          "text": [
            "3\n",
            "6\n"
          ]
        }
      ]
    },
    {
      "cell_type": "code",
      "metadata": {
        "id": "yaKzkwbMDcju",
        "colab": {
          "base_uri": "https://localhost:8080/"
        },
        "outputId": "9d7427e8-7658-419a-ccc0-676a5de0d3a7"
      },
      "source": [
        "### 實作1120\n",
        "x = 2\n",
        "x = x + 1 \n",
        "\n",
        "print('x=x+1, x=?', x)"
      ],
      "execution_count": null,
      "outputs": [
        {
          "output_type": "stream",
          "name": "stdout",
          "text": [
            "x=x+1, x=? 3\n"
          ]
        }
      ]
    },
    {
      "cell_type": "code",
      "metadata": {
        "id": "DUwk2f_sLnbY",
        "colab": {
          "base_uri": "https://localhost:8080/"
        },
        "outputId": "68624810-11be-481e-ccd1-04fbb3d7585b"
      },
      "source": [
        "### 實作1121\n",
        "\n",
        "x = 2\n",
        "x += 1 # x = x + 1\n",
        "print('x += 1, x=?', x)\n",
        "x *= 2 # x = x * 2 (i.e., x = 3*2 = 6)\n",
        "print('x *= 2, x=?', x)\n",
        "\n",
        "\n",
        "\n"
      ],
      "execution_count": null,
      "outputs": [
        {
          "output_type": "stream",
          "name": "stdout",
          "text": [
            "x += 1, x=? 3\n",
            "x *= 2, x=? 6\n"
          ]
        }
      ]
    },
    {
      "cell_type": "markdown",
      "metadata": {
        "id": "2b1n5FdDYuBT"
      },
      "source": [
        "### python 的內建型態主要分為以下三種：\n",
        "\n",
        "1. 數值型態：整數 int, 浮點數 float, 布林 bool\n",
        "2. 字串型態：字串 str, 字元 chr\n",
        "3. 容器型態：串列 list[], 字典 dict{}, 序對 Tuple(), 集合 Set{}\n",
        "\n",
        "[重要] python變數:區分大小寫、不可以數字開頭!!"
      ]
    },
    {
      "cell_type": "code",
      "metadata": {
        "id": "w-nZ0Sg_L9e9",
        "colab": {
          "base_uri": "https://localhost:8080/"
        },
        "outputId": "636ac1ea-0a27-4b8e-b115-9e35ca85e4b3"
      },
      "source": [
        "# P1110\n",
        "y = 2.5\n",
        "print(type(y)) # Show data type by \"type()\"\n",
        "print(y, y + 1, y * 2, y ** 2) # Easy calculation"
      ],
      "execution_count": null,
      "outputs": [
        {
          "output_type": "stream",
          "name": "stdout",
          "text": [
            "<class 'float'>\n",
            "2.5 3.5 5.0 6.25\n"
          ]
        }
      ]
    },
    {
      "cell_type": "code",
      "metadata": {
        "id": "iK4PiLHdFvsy",
        "colab": {
          "base_uri": "https://localhost:8080/"
        },
        "outputId": "8914c9d6-35c7-4315-b238-b57f0b669eea"
      },
      "source": [
        "### 實作1130: check data type\n",
        "\n",
        "x = 2\n",
        "print('x=2, type=?', type(x))\n",
        "\n",
        "y = 2.5\n",
        "print('y=2.5 type=?', type(y))\n",
        "\n",
        "z = 'hello'\n",
        "print('z=hello, typ=?', type(z))"
      ],
      "execution_count": null,
      "outputs": [
        {
          "output_type": "stream",
          "name": "stdout",
          "text": [
            "x=2, type=? <class 'int'>\n",
            "y=2.5 type=? <class 'float'>\n",
            "z=hello, typ=? <class 'str'>\n"
          ]
        }
      ]
    },
    {
      "cell_type": "markdown",
      "metadata": {
        "id": "NDbYQV2RYEbr"
      },
      "source": [
        "### 變數不能使用指令/關鍵字/數字開頭: Python的保留字有哪些? 直接問python吧!"
      ]
    },
    {
      "cell_type": "code",
      "metadata": {
        "id": "yfQuA0XkYCtj",
        "colab": {
          "base_uri": "https://localhost:8080/"
        },
        "outputId": "b085ad25-8332-4afd-9309-7fcb4dae0e50"
      },
      "source": [
        "# P1112A\n",
        "import keyword\n",
        "print(keyword.kwlist,end='')"
      ],
      "execution_count": null,
      "outputs": [
        {
          "output_type": "stream",
          "name": "stdout",
          "text": [
            "['False', 'None', 'True', 'and', 'as', 'assert', 'async', 'await', 'break', 'class', 'continue', 'def', 'del', 'elif', 'else', 'except', 'finally', 'for', 'from', 'global', 'if', 'import', 'in', 'is', 'lambda', 'nonlocal', 'not', 'or', 'pass', 'raise', 'return', 'try', 'while', 'with', 'yield']"
          ]
        }
      ]
    },
    {
      "cell_type": "code",
      "metadata": {
        "id": "ZS5C6O7pdGMM",
        "colab": {
          "base_uri": "https://localhost:8080/"
        },
        "outputId": "b94145b8-4c12-47dc-b7bd-2b015292443e"
      },
      "source": [
        "# P1112B\n",
        "and1 = 1\n",
        "print(and1)"
      ],
      "execution_count": null,
      "outputs": [
        {
          "output_type": "stream",
          "name": "stdout",
          "text": [
            "1\n"
          ]
        }
      ]
    },
    {
      "cell_type": "code",
      "metadata": {
        "id": "Q8jMAu9zYWPt",
        "colab": {
          "base_uri": "https://localhost:8080/"
        },
        "outputId": "62769e64-4823-4534-ca7b-9232034bc080"
      },
      "source": [
        "# P1113 常用輸入輸出\n",
        "id =\"A1234567\"\n",
        "name = input(\"請輸入姓名\") #可加註解\n",
        "print(\"Hello ~ \",id+name)"
      ],
      "execution_count": null,
      "outputs": [
        {
          "output_type": "stream",
          "name": "stdout",
          "text": [
            "請輸入姓名Taiwan\n",
            "Hello ~  A1234567Taiwan\n"
          ]
        }
      ]
    },
    {
      "cell_type": "markdown",
      "metadata": {
        "id": "_zFGCXp1Zw-U"
      },
      "source": [
        "### 重要: 縮進:迴圈類、函數、邏輯判斷等..使用 2 or 4 空格(tab)統一使用4\n",
        "\n",
        "比較運算符號 包括 <、<=、>、>=、==、!="
      ]
    },
    {
      "cell_type": "code",
      "metadata": {
        "id": "YmNR17lwYmYz",
        "colab": {
          "base_uri": "https://localhost:8080/",
          "height": 128
        },
        "outputId": "2412ee03-9c87-42a7-ebb0-2193331e7c2b"
      },
      "source": [
        "# P1114 if判斷很常用，條件成立才執行\n",
        "\n",
        "x = 7\n",
        "check = (x >= 5)\n",
        "print('check ?,', check)\n",
        "if check:\n",
        "print(x,\"> 5 \\n\") #迴圈內指令前方要縮進\n",
        "print(x,'> 5, %s\\n' % check) #迴圈內指令前方要縮進    \n",
        "\n",
        "#雙向if 條件成立~執行，不成立~就執行另一個\n",
        "if 0:  #在python世界裡 1不只是1，還具有 True、真、成立\n",
        "    print(True)\n",
        "else:\n",
        "    print(False) #0不只是0，還具有 False、偽、不成立"
      ],
      "execution_count": null,
      "outputs": [
        {
          "output_type": "error",
          "ename": "SyntaxError",
          "evalue": "ignored",
          "traceback": [
            "\u001b[0;36m  File \u001b[0;32m\"<ipython-input-23-4586f1bfb30d>\"\u001b[0;36m, line \u001b[0;32m5\u001b[0m\n\u001b[0;31m    print('check ?,'check)\u001b[0m\n\u001b[0m                        ^\u001b[0m\n\u001b[0;31mSyntaxError\u001b[0m\u001b[0;31m:\u001b[0m invalid syntax\n"
          ]
        }
      ]
    },
    {
      "cell_type": "code",
      "metadata": {
        "id": "3ztNKv07ZbUk",
        "colab": {
          "base_uri": "https://localhost:8080/"
        },
        "outputId": "6e0f383f-8a9d-489d-b70c-f54a8a0f3328"
      },
      "source": [
        "### 實作1135, 請修正以上的Bug\n",
        "\n",
        "x = 7\n",
        "check = (x >= 5)\n",
        "print('check ?,', check)\n",
        "if check:\n",
        "  print(x,\"> 5 \\n\") #迴圈內指令前方要縮進\n",
        "  print(x,'> 5, %s\\n' % check) #迴圈內指令前方要縮進 (Tab)   \n",
        "\n",
        "#雙向if 條件成立~執行，不成立~就執行另一個\n",
        "if 0:  #在python世界裡 1不只是1，還具有 True、真、成立\n",
        "    print(True)\n",
        "else:\n",
        "    print(False) #0不只是0，還具有 False、偽、不成立\n"
      ],
      "execution_count": null,
      "outputs": [
        {
          "output_type": "stream",
          "name": "stdout",
          "text": [
            "check ?, True\n",
            "7 > 5 \n",
            "\n",
            "7 > 5, True\n",
            "\n",
            "False\n"
          ]
        }
      ]
    },
    {
      "cell_type": "code",
      "metadata": {
        "colab": {
          "base_uri": "https://localhost:8080/"
        },
        "id": "mjTe2vTIm1oR",
        "outputId": "b13f6ecd-80be-4077-8549-355ab697ddbd"
      },
      "source": [
        "a = 33\n",
        "b = 200\n",
        "if b > a:\n",
        "  print(\"b is greater than a\") # you will get an error  "
      ],
      "execution_count": null,
      "outputs": [
        {
          "output_type": "stream",
          "name": "stdout",
          "text": [
            "b is greater than a\n"
          ]
        }
      ]
    },
    {
      "cell_type": "code",
      "metadata": {
        "colab": {
          "base_uri": "https://localhost:8080/"
        },
        "id": "-sxAIfWMm7X2",
        "outputId": "7d1b2d13-4582-49a1-fedc-55e8721849c2"
      },
      "source": [
        "a = 33\n",
        "b = 33\n",
        "if b > a:\n",
        "  print(\"b > a\")\n",
        "elif a == b:\n",
        "  print(\"a == b\")\n",
        "else:\n",
        "  print(\"a > b\")  "
      ],
      "execution_count": null,
      "outputs": [
        {
          "output_type": "stream",
          "name": "stdout",
          "text": [
            "a == b\n"
          ]
        }
      ]
    },
    {
      "cell_type": "markdown",
      "metadata": {
        "id": "EqRS7qhBL9fC"
      },
      "source": [
        "####布林邏輯"
      ]
    },
    {
      "cell_type": "markdown",
      "metadata": {
        "id": "Nv_LIVOJL9fD"
      },
      "source": [
        "Python implements all of the usual operators for Boolean logic, but uses English words rather than symbols (`&&`, `||`, etc.):"
      ]
    },
    {
      "cell_type": "code",
      "metadata": {
        "id": "RvoImwgGL9fE",
        "colab": {
          "base_uri": "https://localhost:8080/"
        },
        "outputId": "2b46cbe0-fed5-49a4-fd06-f47c706f4b05"
      },
      "source": [
        "# P1115\n",
        "print(\"***** 布林邏輯 *****\")\n",
        "one = 1\n",
        "two = 2\n",
        "three = 3\n",
        "\n",
        "print('one > 0: ', one > 0)\n",
        "print('two > one:',two > one)\n",
        "print('three < one:', three < one)"
      ],
      "execution_count": null,
      "outputs": [
        {
          "output_type": "stream",
          "name": "stdout",
          "text": [
            "***** 布林邏輯 *****\n",
            "one > 0:  True\n",
            "two > one: True\n",
            "three < one: False\n"
          ]
        }
      ]
    },
    {
      "cell_type": "code",
      "metadata": {
        "id": "6zYm7WzCL9fK",
        "colab": {
          "base_uri": "https://localhost:8080/"
        },
        "outputId": "7d31fdcf-b30c-4202-9c4a-a6e31409da16"
      },
      "source": [
        "# P1116\n",
        "t = True\n",
        "f = False\n",
        "print(t and f) # Logical AND;\n",
        "print(t or f)  # Logical OR;\n",
        "print(not t)   # Logical NOT;\n",
        "print(t != f)  # Logical XOR;"
      ],
      "execution_count": null,
      "outputs": [
        {
          "output_type": "stream",
          "name": "stdout",
          "text": [
            "False\n",
            "True\n",
            "False\n",
            "True\n"
          ]
        }
      ]
    },
    {
      "cell_type": "code",
      "metadata": {
        "id": "6QuoIf4LHyF-",
        "colab": {
          "base_uri": "https://localhost:8080/"
        },
        "outputId": "971cc1b4-13e7-4d88-b6f1-3e980ed4c6ac"
      },
      "source": [
        "### 實作1140\n",
        "ans1 = (two == three) # == = = + =\n",
        "ans2 = (two != three)\n",
        "ans3 = (two > three)\n",
        "ans4 = (two < three)\n",
        "\n",
        "print(\"ans1, ans2, ans3, ans4 =\", ans1, ans2, ans3, ans4, '\\n')\n",
        "print(\"ans1, ans2, ans3, ans4 =\", ans1, ans2, ans3, ans4)\n",
        "print(\"ans1 = %s, ans2 = %s, ans3 = %s, ans4 = %s\" % (ans1, ans2, ans3, ans4), '\\n')\n",
        "\n",
        "ans5 = ans2 and ans4\n",
        "print('ans2 and ans4 = ans5:', ans2, ans4, ans5)"
      ],
      "execution_count": null,
      "outputs": [
        {
          "output_type": "stream",
          "name": "stdout",
          "text": [
            "ans1, ans2, ans3, ans4 = False True False True \n",
            "\n",
            "ans1, ans2, ans3, ans4 = False True False True\n",
            "ans1 = False, ans2 = True, ans3 = False, ans4 = True \n",
            "\n",
            "ans2 and ans4 = ans5: True True True\n"
          ]
        }
      ]
    },
    {
      "cell_type": "code",
      "metadata": {
        "id": "X-IDJSYKeCB1",
        "colab": {
          "base_uri": "https://localhost:8080/",
          "height": 129
        },
        "outputId": "ddaaa6c6-e22a-41f2-c117-c944f2a0e7b6"
      },
      "source": [
        "# P1117\n",
        "f = 3\n",
        "g = 3.0000 \n",
        "if f=g: #判斷要使用==\n",
        "    print(\"是的\")\n",
        "else:\n",
        "    print(\"才不是哩\")"
      ],
      "execution_count": null,
      "outputs": [
        {
          "output_type": "error",
          "ename": "SyntaxError",
          "evalue": "ignored",
          "traceback": [
            "\u001b[0;36m  File \u001b[0;32m\"<ipython-input-26-c91ffa1a1ff2>\"\u001b[0;36m, line \u001b[0;32m4\u001b[0m\n\u001b[0;31m    if f=g: #判斷要使用==\u001b[0m\n\u001b[0m        ^\u001b[0m\n\u001b[0;31mSyntaxError\u001b[0m\u001b[0;31m:\u001b[0m invalid syntax\n"
          ]
        }
      ]
    },
    {
      "cell_type": "code",
      "metadata": {
        "id": "pJjAvbWJcE3E",
        "colab": {
          "base_uri": "https://localhost:8080/"
        },
        "outputId": "8b7bb973-5d95-4df4-ba33-ddeb534be896"
      },
      "source": [
        "### 實作1145: 讓我們一起來除錯吧! (SyntaxError: invalid syntax)\n",
        "f = 3\n",
        "g = 3.0000 \n",
        "if f==g: #判斷要使用 == \n",
        "    print(\"是的\")\n",
        "else:\n",
        "    print(\"才不是哩\")"
      ],
      "execution_count": null,
      "outputs": [
        {
          "output_type": "stream",
          "name": "stdout",
          "text": [
            "是的\n"
          ]
        }
      ]
    },
    {
      "cell_type": "markdown",
      "metadata": {
        "id": "UQnQWFEyL9fP"
      },
      "source": [
        "####字串(Strings)"
      ]
    },
    {
      "cell_type": "code",
      "metadata": {
        "id": "AijEDtPFL9fP",
        "colab": {
          "base_uri": "https://localhost:8080/"
        },
        "outputId": "2a571f41-82a9-4ddf-fa4a-5bed5b9ece3f"
      },
      "source": [
        "# P1118\n",
        "hello = '**hello** '   # String literals can use single quotes\n",
        "world = \"++world++\"   # or double quotes; it does not matter\n",
        "print(hello, len(hello))\n",
        "print(world, len(world))\n",
        "\n",
        "hh = 'hello world'\n",
        "print('hello world', len(hh))"
      ],
      "execution_count": null,
      "outputs": [
        {
          "output_type": "stream",
          "name": "stdout",
          "text": [
            "**hello**  10\n",
            "++world++ 9\n",
            "hello world 11\n"
          ]
        }
      ]
    },
    {
      "cell_type": "code",
      "metadata": {
        "id": "saDeaA7hL9fT",
        "colab": {
          "base_uri": "https://localhost:8080/"
        },
        "outputId": "e1ffcf4a-05bd-43e4-e97a-d9252535058b"
      },
      "source": [
        "# P1119\n",
        "\n",
        "hw = hello + world  # 字符串連接 (String concatenation)\n",
        "print(hw)\n",
        "\n",
        "hw = hello + ' ' + world  # 字符串連接 (String concatenation)\n",
        "print(hw)\n",
        "\n",
        "print('%s %s' % (hello, world))"
      ],
      "execution_count": null,
      "outputs": [
        {
          "output_type": "stream",
          "name": "stdout",
          "text": [
            "**hello** ++world++\n",
            "**hello**  ++world++\n",
            "**hello**  ++world++\n"
          ]
        }
      ]
    },
    {
      "cell_type": "code",
      "metadata": {
        "id": "Nji1_UjYL9fY",
        "colab": {
          "base_uri": "https://localhost:8080/"
        },
        "outputId": "5fd05b6e-a61a-487c-91f7-70161ff38139"
      },
      "source": [
        "# P1120\n",
        "hw12 = '{} {} {}'.format(hello, world, 12)  # string formatting\n",
        "print(hw12)"
      ],
      "execution_count": null,
      "outputs": [
        {
          "output_type": "stream",
          "name": "stdout",
          "text": [
            "**hello**  ++world++ 12\n"
          ]
        }
      ]
    },
    {
      "cell_type": "code",
      "metadata": {
        "id": "PoSqc2_rJZqA",
        "colab": {
          "base_uri": "https://localhost:8080/"
        },
        "outputId": "a363f05e-8661-487b-96b1-67895571288d"
      },
      "source": [
        "### 實作1150\n",
        "wh = world + ' ' + hello\n",
        "print(wh)\n",
        "\n",
        "hw12 = '{} {} {}'.format(hello, world, 12)  # string formatting\n",
        "\n",
        "print(hw12)\n",
        "\n",
        "hw13 =('%s %s %d' %(hello, world, 12))  # string formatting\n",
        "\n",
        "print(hw13)"
      ],
      "execution_count": null,
      "outputs": [
        {
          "output_type": "stream",
          "name": "stdout",
          "text": [
            "++world++ **hello** \n",
            "**hello**  ++world++ 12\n",
            "**hello**  ++world++ 12\n"
          ]
        }
      ]
    },
    {
      "cell_type": "markdown",
      "metadata": {
        "id": "bUpl35bIL9fc"
      },
      "source": [
        "String objects have a bunch of useful methods; for example:"
      ]
    },
    {
      "cell_type": "code",
      "metadata": {
        "id": "VOxGatlsL9fd",
        "colab": {
          "base_uri": "https://localhost:8080/"
        },
        "outputId": "45395137-ab05-472b-84b8-03a7a82595bc"
      },
      "source": [
        "# P1121\n",
        "s1 = 'hello'\n",
        "s2 = '  world '\n",
        "print(s1.capitalize())  # 將字符串大寫\n",
        "print(s1.upper())       # 將字符串全部轉換為大寫\n",
        "print(s1.replace('l', '*'))  # 用另一個替換一個子字符串\n",
        "print(len(s2), s2.strip(), len(s2.strip()))  # 去除前導和尾隨空格"
      ],
      "execution_count": null,
      "outputs": [
        {
          "output_type": "stream",
          "name": "stdout",
          "text": [
            "Hello\n",
            "HELLO\n",
            "he**o\n",
            "8 world 5\n"
          ]
        }
      ]
    },
    {
      "cell_type": "code",
      "metadata": {
        "id": "U0L50zerKOJw",
        "colab": {
          "base_uri": "https://localhost:8080/"
        },
        "outputId": "e6df079b-cbe7-44c0-d582-28f171cccdb7"
      },
      "source": [
        "### 實作1160\n",
        "s11 = 'good morning'\n",
        "s12 = '  WORLD aaa AAA'\n",
        "s13 = 'good#####moring'\n",
        "print(s11.capitalize())\n",
        "print(s11.upper())\n",
        "print(s12.replace(\"L\",'***'))\n",
        "print(s12.replace(\"RL\",'-----'))\n",
        "print(len(s12), s12.strip(), len(s12.strip())) \n",
        "print(s12.lower())\n",
        "print(s13, s13.replace('#####',' '))"
      ],
      "execution_count": 59,
      "outputs": [
        {
          "output_type": "stream",
          "name": "stdout",
          "text": [
            "Good morning\n",
            "GOOD MORNING\n",
            "  WOR***D aaa AAA\n",
            "  WO-----D aaa AAA\n",
            "15 WORLD aaa AAA 13\n",
            "  world aaa aaa\n",
            "good#####moring good moring\n"
          ]
        }
      ]
    },
    {
      "cell_type": "markdown",
      "metadata": {
        "id": "p-6hClFjL9fk"
      },
      "source": [
        "###容器：Python常用內置容器類型：列表(list)、字典(dictionary)"
      ]
    },
    {
      "cell_type": "markdown",
      "metadata": {
        "id": "UsIWOe0LL9fn"
      },
      "source": [
        "####Lists"
      ]
    },
    {
      "cell_type": "markdown",
      "metadata": {
        "id": "wzxX7rgWL9fn"
      },
      "source": [
        "列表(List)是數組的 Python 等價物，但可以調整大小並且可以包含不同類型的元素："
      ]
    },
    {
      "cell_type": "code",
      "metadata": {
        "id": "hk3A8pPcL9fp"
      },
      "source": [
        "# P1122\n",
        "xs = [3, 2, 1]   # 創立一個List\n",
        "print(xs)\n",
        "print(xs[2])\n",
        "print(xs[0])\n",
        "print(xs[-1])     \n",
        "print(xs[-2])\n",
        "print(xs[-3])\n",
        "print(\"Size = ? Ans: \", len(xs))"
      ],
      "execution_count": null,
      "outputs": []
    },
    {
      "cell_type": "code",
      "metadata": {
        "id": "0VSuag3XMpN0",
        "colab": {
          "base_uri": "https://localhost:8080/"
        },
        "outputId": "de6d4ccc-abac-4a6c-d25f-9da37fea1186"
      },
      "source": [
        "### 實作1171\n",
        "\n",
        "ss = [10, 20, 30, 40, 50, 'hello', 'world']\n",
        "print(ss)\n",
        "\n",
        "print(ss[0])\n",
        "print(ss[-1])\n",
        "print(ss[1])\n",
        "print(ss[4])\n",
        "\n",
        "print('Size =?, Ans:', len(ss))\n",
        "\n",
        "\n",
        "\n"
      ],
      "execution_count": 74,
      "outputs": [
        {
          "output_type": "stream",
          "name": "stdout",
          "text": [
            "[10, 20, 30, 40, 50, 'hello', 'world']\n",
            "10\n",
            "world\n",
            "20\n",
            "50\n",
            "Size =?, Ans: 7\n"
          ]
        }
      ]
    },
    {
      "cell_type": "code",
      "metadata": {
        "colab": {
          "base_uri": "https://localhost:8080/"
        },
        "id": "Rk3hMBMHoLx_",
        "outputId": "ddc5b31b-d1e6-4e02-f836-3b3c3014219c"
      },
      "source": [
        "# for idx, animal in enumerate(animals):\n",
        "for box_number, box_content in enumerate(ss):\n",
        "  print(box_number, box_content)"
      ],
      "execution_count": 77,
      "outputs": [
        {
          "output_type": "stream",
          "name": "stdout",
          "text": [
            "0 10\n",
            "1 20\n",
            "2 30\n",
            "3 40\n",
            "4 50\n",
            "5 hello\n",
            "6 world\n"
          ]
        }
      ]
    },
    {
      "cell_type": "code",
      "metadata": {
        "id": "YCjCy_0_L9ft",
        "colab": {
          "base_uri": "https://localhost:8080/"
        },
        "outputId": "ea2e0fc7-97a7-4a00-a67a-4e0dda3ba430"
      },
      "source": [
        "# P1123\n",
        "xs = [10, 20, 30, 40, 50] \n",
        "xs[2] = 'cat'    # 列表可以包含不同類型的元素\n",
        "print(xs)"
      ],
      "execution_count": 78,
      "outputs": [
        {
          "output_type": "stream",
          "name": "stdout",
          "text": [
            "[10, 20, 'cat', 40, 50]\n"
          ]
        }
      ]
    },
    {
      "cell_type": "code",
      "metadata": {
        "id": "bycWuV-KNw0H",
        "colab": {
          "base_uri": "https://localhost:8080/"
        },
        "outputId": "a5fc6604-ae16-4891-9cd1-9fa28d2b2e82"
      },
      "source": [
        "### 實作1172\n",
        "xs[2]='dog'\n",
        "print(xs)\n"
      ],
      "execution_count": 79,
      "outputs": [
        {
          "output_type": "stream",
          "name": "stdout",
          "text": [
            "[10, 20, 'dog', 40, 50]\n"
          ]
        }
      ]
    },
    {
      "cell_type": "code",
      "metadata": {
        "id": "vJ0x5cF-L9fx",
        "colab": {
          "base_uri": "https://localhost:8080/"
        },
        "outputId": "dec818b6-c226-4b6c-9abc-208d76e265ce"
      },
      "source": [
        "# P1124\n",
        "xs.append('fish') # 在列表末尾添加一個新元素\n",
        "print(xs)  \n",
        "print(len(xs))"
      ],
      "execution_count": 82,
      "outputs": [
        {
          "output_type": "stream",
          "name": "stdout",
          "text": [
            "[10, 20, 'dog', 40, 50, 'fish', 'fish', 'fish']\n",
            "8\n"
          ]
        }
      ]
    },
    {
      "cell_type": "code",
      "metadata": {
        "id": "spwuARsSOFCu",
        "colab": {
          "base_uri": "https://localhost:8080/"
        },
        "outputId": "cc601067-a68d-4dc5-e033-596998e20807"
      },
      "source": [
        "### 實作1173\n",
        "\n",
        "xs.append('bird') # 在列表末尾添加一個新元素\n",
        "print(xs)  \n",
        "print(len(xs))\n",
        " "
      ],
      "execution_count": 85,
      "outputs": [
        {
          "output_type": "stream",
          "name": "stdout",
          "text": [
            "[10, 20, 'dog', 40, 50, 'fish', 'fish', 'fish', 'bird', 'bird', 'bird']\n",
            "11\n"
          ]
        }
      ]
    },
    {
      "cell_type": "code",
      "metadata": {
        "id": "cxVCNRTNL9f1",
        "colab": {
          "base_uri": "https://localhost:8080/"
        },
        "outputId": "ea813c0c-d8d3-42d2-fb23-9e44f14c492f"
      },
      "source": [
        "# P1125\n",
        "x = xs.pop()     # 刪除並返回列表的最後一個元素\n",
        "print(x, xs)"
      ],
      "execution_count": 88,
      "outputs": [
        {
          "output_type": "stream",
          "name": "stdout",
          "text": [
            "bird [10, 20, 'dog', 40, 50, 'fish', 'fish', 'fish']\n"
          ]
        }
      ]
    },
    {
      "cell_type": "code",
      "metadata": {
        "id": "viclnCKFNaz6",
        "colab": {
          "base_uri": "https://localhost:8080/"
        },
        "outputId": "042dbf52-5180-4bad-9f28-2d8dff625964"
      },
      "source": [
        "### 實作1174\n",
        "x = xs.pop()     # 刪除並返回列表的最後一個元素\n",
        "print(x, xs)\n"
      ],
      "execution_count": 89,
      "outputs": [
        {
          "output_type": "stream",
          "name": "stdout",
          "text": [
            "fish [10, 20, 'dog', 40, 50, 'fish', 'fish']\n"
          ]
        }
      ]
    },
    {
      "cell_type": "markdown",
      "metadata": {
        "id": "ovahhxd_L9f5"
      },
      "source": [
        "####Slicing: Python 還提供了簡潔的語法來訪問子列表； 這稱為切片："
      ]
    },
    {
      "cell_type": "code",
      "metadata": {
        "id": "obv98JLuPPGy",
        "colab": {
          "base_uri": "https://localhost:8080/"
        },
        "outputId": "39204344-1314-439a-c380-c017aa19c812"
      },
      "source": [
        "# P1126\n",
        "print(len('hello'))"
      ],
      "execution_count": 90,
      "outputs": [
        {
          "output_type": "stream",
          "name": "stdout",
          "text": [
            "5\n"
          ]
        }
      ]
    },
    {
      "cell_type": "code",
      "metadata": {
        "id": "ninq666bL9f6",
        "colab": {
          "base_uri": "https://localhost:8080/"
        },
        "outputId": "a9d29bbe-14dc-4375-9309-46b6660c81e1"
      },
      "source": [
        "# P1127\n",
        "nums = 'hello'\n",
        "print(nums, len(nums))         \n",
        "print('nums[2:4] >>',nums[2:4])    \n",
        "print('nums[2:] >>',nums[2:])     \n",
        "print(nums[:2])     \n",
        "print(nums[:])      \n",
        "print('nums[:-1] >>', nums[:-1])    \n",
        "print(nums)        "
      ],
      "execution_count": 91,
      "outputs": [
        {
          "output_type": "stream",
          "name": "stdout",
          "text": [
            "hello 5\n",
            "nums[2:4] >> ll\n",
            "nums[2:] >> llo\n",
            "he\n",
            "hello\n",
            "nums[:-1] >> hell\n",
            "hello\n"
          ]
        }
      ]
    },
    {
      "cell_type": "code",
      "metadata": {
        "id": "SQvILIsmPqaH",
        "colab": {
          "base_uri": "https://localhost:8080/"
        },
        "outputId": "a5f62a6f-bf59-404b-cecc-a24ddb35264d"
      },
      "source": [
        "### 實作1175\n",
        "nums = 'world'\n",
        "print(nums, len(nums))       \n",
        "print(nums[2:4])    \n",
        "print(nums[2:])     \n",
        "print(nums[:2])     \n",
        "print(nums[:])      \n",
        "print('nums[:-1] >>', nums[:-1])    \n",
        "print(nums) "
      ],
      "execution_count": 92,
      "outputs": [
        {
          "output_type": "stream",
          "name": "stdout",
          "text": [
            "world 5\n",
            "rl\n",
            "rld\n",
            "wo\n",
            "world\n",
            "nums[:-1] >> worl\n",
            "world\n"
          ]
        }
      ]
    },
    {
      "cell_type": "code",
      "metadata": {
        "colab": {
          "base_uri": "https://localhost:8080/"
        },
        "id": "MD2KwEMEuTCR",
        "outputId": "09e8070a-9869-4e80-de76-12da906ce816"
      },
      "source": [
        "### 實作1175a\n",
        "x = [0, 1, 2, 3, 4, 5]\n",
        "print(x)\n",
        "print('x[:] >> ',x[:])\n",
        "\n",
        "print(x[:3])\n",
        "\n",
        "print('x[3:] >>', x[3:])\n"
      ],
      "execution_count": 101,
      "outputs": [
        {
          "output_type": "stream",
          "name": "stdout",
          "text": [
            "[0, 1, 2, 3, 4, 5]\n",
            "x[:] >>  [0, 1, 2, 3, 4, 5]\n",
            "[0, 1, 2]\n",
            "x[3:] >> [3, 4, 5]\n"
          ]
        }
      ]
    },
    {
      "cell_type": "code",
      "metadata": {
        "colab": {
          "base_uri": "https://localhost:8080/"
        },
        "id": "8qe_J0jsvDfp",
        "outputId": "8d4ddb34-82b9-48bf-f23d-f68f41d603af"
      },
      "source": [
        "for i in range(1,10,2):\n",
        "  print(i)"
      ],
      "execution_count": 105,
      "outputs": [
        {
          "output_type": "stream",
          "name": "stdout",
          "text": [
            "1\n",
            "3\n",
            "5\n",
            "7\n",
            "9\n"
          ]
        }
      ]
    },
    {
      "cell_type": "markdown",
      "metadata": {
        "id": "UONpMhF4L9f_"
      },
      "source": [
        "###Python迴圈常見用法\n",
        "\n",
        "range(起始值,結束值,遞增(減)值)\n",
        "\n",
        "使用說明：\n",
        "range(20)：起始值預設從0開始，所以會產生0到19的整數序列。\n",
        "range(10,20)：起始值從10開始，所以會產生10到19的整數序列。\n",
        "range(10,20,3)：起始值從10開始，遞增值為3，所以會產生10,13,16,19的整數序列。\n"
      ]
    },
    {
      "cell_type": "markdown",
      "metadata": {
        "id": "_DYz1j6QL9f_"
      },
      "source": [
        "You can loop over the elements of a list like this:"
      ]
    },
    {
      "cell_type": "code",
      "metadata": {
        "id": "4cCOysfWL9gA"
      },
      "source": [
        "# P1129\n",
        "animals = ['cat', 'dog', 'monkey']\n",
        "for animal in animals:\n",
        "    print(animal)"
      ],
      "execution_count": null,
      "outputs": []
    },
    {
      "cell_type": "markdown",
      "metadata": {
        "id": "KxIaQs7pL9gE"
      },
      "source": [
        "If you want access to the index of each element within the body of a loop, use the built-in `enumerate` function:"
      ]
    },
    {
      "cell_type": "code",
      "metadata": {
        "id": "JjGnDluWL9gF"
      },
      "source": [
        "# P1130\n",
        "# [Python] 使用 enumerate() 函式來同時輸出索引與元素\n",
        "# enumerate() 是 Python 當中經常會看到的函式，前者輸入一個可迭代的對象、比如說 List 資料型態；後者輸入開始的起點編號，為數字，若不設定時從 0 開始。\n",
        "animals = ['cat', 'dog', 'monkey']\n",
        "for idx, animal in enumerate(animals):\n",
        "    print('#%d: %s' % (idx, animal))"
      ],
      "execution_count": null,
      "outputs": []
    },
    {
      "cell_type": "code",
      "metadata": {
        "id": "cO6eoRTcSSt-"
      },
      "source": [
        "# P1131A\n",
        "for idx, animal in enumerate(animals, start=1):\n",
        "    print('#%d: %s' % (idx, animal))\n",
        "\n",
        "for idx, animal in enumerate(animals):\n",
        "    print('#%d: %s' % (idx+1, animal))    "
      ],
      "execution_count": null,
      "outputs": []
    },
    {
      "cell_type": "code",
      "metadata": {
        "id": "2BgMh9M0x7SF"
      },
      "source": [
        "# P1131B\n",
        "# range語法架構：range(start, stop[, step])\n",
        "\n",
        "for i in range(1,10,1):\n",
        "  print(i,'*'*i)"
      ],
      "execution_count": null,
      "outputs": []
    },
    {
      "cell_type": "code",
      "metadata": {
        "id": "G89UO8xxyzpL"
      },
      "source": [
        "for i in range(1,10):\n",
        "  print(i,'+'*i)"
      ],
      "execution_count": null,
      "outputs": []
    },
    {
      "cell_type": "code",
      "metadata": {
        "id": "UQifEsJAyR97"
      },
      "source": [
        "# P1131C\n",
        "for i in range(9,0,-1):\n",
        "  print(i,'*'*i)"
      ],
      "execution_count": null,
      "outputs": []
    },
    {
      "cell_type": "code",
      "metadata": {
        "id": "d4NgPc-WziZz"
      },
      "source": [
        "# P1131D, Python Nested Loops(巢狀迴圈), 簡單來說，就是迴圈中又有一層迴圈\n",
        "# 我們來看一個範例: 5X5乘法表\n",
        "for i in range(1,6,1):\n",
        "  for j in range(1,6,1):\n",
        "    print('%dX%d=%2d, ' % (i, j, i*j), end=\"\")\n",
        "  print('\\n')"
      ],
      "execution_count": null,
      "outputs": []
    },
    {
      "cell_type": "code",
      "metadata": {
        "id": "VEV3pZsLxzRi"
      },
      "source": [
        "### 實作1175, 參考上面的程式, 印出9X9乘法表\n",
        "\n"
      ],
      "execution_count": null,
      "outputs": []
    },
    {
      "cell_type": "code",
      "metadata": {
        "id": "JSZ6ZpXcQVGN"
      },
      "source": [
        "### 實作1180\n",
        "\n",
        "\n",
        "\n"
      ],
      "execution_count": null,
      "outputs": []
    },
    {
      "cell_type": "markdown",
      "metadata": {
        "id": "5Qn2jU_pL9gL"
      },
      "source": [
        "在編程時，我們經常希望將一種類型的數據轉換為另一種類型的數據。 作為一個簡單的例子，考慮以下計算平方數的代碼："
      ]
    },
    {
      "cell_type": "code",
      "metadata": {
        "id": "IVNEwoMXL9gL",
        "colab": {
          "base_uri": "https://localhost:8080/"
        },
        "outputId": "3eb413c3-4f4c-4ae5-8503-f595a8964fcd"
      },
      "source": [
        "# P1132A\n",
        "nums = [0, 1, 2, 3, 4]\n",
        "squares = []\n",
        "for x in nums:\n",
        "    squares.append(x ** 2)\n",
        "print(nums, '>> ', squares)"
      ],
      "execution_count": null,
      "outputs": [
        {
          "output_type": "stream",
          "name": "stdout",
          "text": [
            "[0, 1, 2, 3, 4] >>  [0, 1, 4, 9, 16]\n"
          ]
        }
      ]
    },
    {
      "cell_type": "markdown",
      "metadata": {
        "id": "7DmKVUFaL9gQ"
      },
      "source": [
        "您可以使用列表理解使此代碼更簡單 (list comprehension:)"
      ]
    },
    {
      "cell_type": "code",
      "metadata": {
        "id": "kZxsUfV6L9gR"
      },
      "source": [
        "# P1132B\n",
        "nums = [0, 1, 2, 3, 4]\n",
        "squares = [x ** 2 for x in nums]\n",
        "print(squares)"
      ],
      "execution_count": null,
      "outputs": []
    },
    {
      "cell_type": "markdown",
      "metadata": {
        "id": "-D8ARK7tL9gV"
      },
      "source": [
        "List comprehensions can also contain conditions:"
      ]
    },
    {
      "cell_type": "code",
      "metadata": {
        "id": "yUtgOyyYL9gV"
      },
      "source": [
        "# P1132C\n",
        "nums = [0, 1, 2, 3, 4]\n",
        "even_squares = [x ** 2 for x in nums if x % 2 == 0]\n",
        "print(even_squares)"
      ],
      "execution_count": null,
      "outputs": []
    },
    {
      "cell_type": "code",
      "metadata": {
        "id": "wrmljqdi382U"
      },
      "source": [
        "# P1133A, Python While-Loops敘述: Python迴圈的另一種型式，與for-loop不一樣的地方是，while-loop是依據條件來重複執行運算\n",
        "\n",
        "aa = 0\n",
        "\n",
        "while aa < 10:\n",
        "  print('aa=%d, aa+2=%d, aa*2=%d, aa-2=%d' % (aa, aa+2, aa*2, aa-2))\n",
        "  aa+=1 # a=a+1\n",
        "\n",
        "print('Done!')  "
      ],
      "execution_count": null,
      "outputs": []
    },
    {
      "cell_type": "code",
      "metadata": {
        "id": "F1XnXsJW5Dl1"
      },
      "source": [
        "# P1133B, break：直接中斷迴圈(e.g., while loop, for loop)，在break指令之後的運算皆不會執行\n",
        "\n",
        "aa = 0\n",
        "\n",
        "while aa < 10:\n",
        "  if aa>5:\n",
        "    print('*** %d > 5, so, bye-bye and exit the while loop!' % aa)\n",
        "    break\n",
        "\n",
        "  print('aa=%d, aa+2=%d, aa*2=%d, aa-2=%d' % (aa, aa+2, aa*2, aa-2))\n",
        "  aa+=1\n"
      ],
      "execution_count": null,
      "outputs": []
    },
    {
      "cell_type": "code",
      "metadata": {
        "id": "N5T-WKJg5wA2"
      },
      "source": [
        "# P1133C, continue：同樣的在continue指令之後的運算不會執行，但是不會中斷迴圈，而是會繼續讀取下一個元素\n",
        "\n",
        "aa = 0\n",
        "\n",
        "while aa < 10:\n",
        "  if aa>5:\n",
        "    aa+=1 # for increase the number of aa\n",
        "    continue\n",
        "    print('*** %d > 5, so, bye-bye and exit the while loop!' % aa)\n",
        "    \n",
        "    \n",
        "  print('aa=%d, aa+2=%d, aa*2=%d, aa-2=%d' % (aa, aa+2, aa*2, aa-2))\n",
        "  aa+=1 \n"
      ],
      "execution_count": null,
      "outputs": []
    },
    {
      "cell_type": "markdown",
      "metadata": {
        "id": "H8xsUEFpL9gZ"
      },
      "source": [
        "####Dictionaries"
      ]
    },
    {
      "cell_type": "markdown",
      "metadata": {
        "id": "kkjAGMAJL9ga"
      },
      "source": [
        "A dictionary stores (key, value) pairs, similar to a `Map` in Java or an object in Javascript. You can use it like this:"
      ]
    },
    {
      "cell_type": "code",
      "metadata": {
        "id": "XBYI1MrYL9gb"
      },
      "source": [
        "# P1135\n",
        "d = {'cat': 'cute', 'dog': 'furry', 'fish':'wet'}  # Create a new dictionary with some data\n",
        "print(d['cat'])       # Get an entry from a dictionary; prints \"cute\"\n",
        "print('cat' in d)     # Check if a dictionary has a given key; prints \"True\""
      ],
      "execution_count": null,
      "outputs": []
    },
    {
      "cell_type": "code",
      "metadata": {
        "id": "pS7e-G-HL9gf"
      },
      "source": [
        "# P1136\n",
        "d['fish'] = 'wet'    # Set an entry in a dictionary\n",
        "print(d['fish'])      # Prints \"wet\""
      ],
      "execution_count": null,
      "outputs": []
    },
    {
      "cell_type": "markdown",
      "metadata": {
        "id": "wqm4dRZNL9gr"
      },
      "source": [
        "You can find all you need to know about dictionaries in the [documentation](https://docs.python.org/2/library/stdtypes.html#dict)."
      ]
    },
    {
      "cell_type": "markdown",
      "metadata": {
        "id": "IxwEqHlGL9gr"
      },
      "source": [
        "It is easy to iterate over the keys in a dictionary:"
      ]
    },
    {
      "cell_type": "code",
      "metadata": {
        "id": "rYfz7ZKNL9gs"
      },
      "source": [
        "# P1137\n",
        "d = {'person': 2, 'cat': 4, 'spider': 8}\n",
        "for animal, legs in d.items():\n",
        "    print('Method 1: A {} has {} legs'.format(animal, legs))\n",
        "    print('Method 2: A %s has %d legs' % (animal, legs))\n",
        "    print(\"\\n\")"
      ],
      "execution_count": null,
      "outputs": []
    },
    {
      "cell_type": "markdown",
      "metadata": {
        "id": "zk2DbvLKL9g_"
      },
      "source": [
        "_Loops_: Iterating over a set has the same syntax as iterating over a list; however since sets are unordered, you cannot make assumptions about the order in which you visit the elements of the set:"
      ]
    },
    {
      "cell_type": "code",
      "metadata": {
        "id": "K47KYNGyL9hA"
      },
      "source": [
        "# P1138\n",
        "animals = {'cat', 'dog', 'fish'}\n",
        "for idx, animal in enumerate(animals):\n",
        "    print('#{}: {}'.format(idx + 1, animal))"
      ],
      "execution_count": null,
      "outputs": []
    },
    {
      "cell_type": "markdown",
      "metadata": {
        "id": "puq4S8buL9hC"
      },
      "source": [
        "Set comprehensions: Like lists and dictionaries, we can easily construct sets using set comprehensions:"
      ]
    },
    {
      "cell_type": "code",
      "metadata": {
        "id": "iw7k90k3L9hC"
      },
      "source": [
        "# P1139\n",
        "from math import sqrt\n",
        "print({int(sqrt(x)) for x in range(30)})\n",
        "print({sqrt(x) for x in range(30)})"
      ],
      "execution_count": null,
      "outputs": []
    },
    {
      "cell_type": "markdown",
      "metadata": {
        "id": "AXA4jrEOL9hM"
      },
      "source": [
        "###Functions"
      ]
    },
    {
      "cell_type": "markdown",
      "metadata": {
        "id": "WaRms-QfL9hN"
      },
      "source": [
        "Python functions are defined using the `def` keyword. For example:"
      ]
    },
    {
      "cell_type": "code",
      "metadata": {
        "id": "kiMDUr58L9hN"
      },
      "source": [
        "# P1140\n",
        "def sign(x):\n",
        "    if x > 0:\n",
        "        return 'positive'\n",
        "    elif x < 0:\n",
        "        return 'negative'\n",
        "    else:\n",
        "        return 'zero'\n",
        "\n",
        "for x in [-1, 0, 1]:\n",
        "    print(sign(x))"
      ],
      "execution_count": null,
      "outputs": []
    },
    {
      "cell_type": "markdown",
      "metadata": {
        "id": "U-QJFt8TL9hR"
      },
      "source": [
        "We will often define functions to take optional keyword arguments, like this:"
      ]
    },
    {
      "cell_type": "code",
      "metadata": {
        "id": "PfsZ3DazL9hR"
      },
      "source": [
        "# P1141\n",
        "def hello(name='Horace', loud=False):\n",
        "    if loud:\n",
        "        print('HELLO by True, %s' % name.upper())\n",
        "    else:\n",
        "        print('Hello by False, %s' % name)\n",
        "\n",
        "hello()\n",
        "hello('Bob')\n",
        "hello('Fred', loud=True)"
      ],
      "execution_count": null,
      "outputs": []
    },
    {
      "cell_type": "code",
      "metadata": {
        "id": "wSAv-mosuvnS"
      },
      "source": [
        "### 實作1181: 一起來debug!\n",
        "animals = ['cat', 'dog', 'fish', 'python','']\n",
        "for xx in animals:\n",
        "  hello(xxx)\n"
      ],
      "execution_count": null,
      "outputs": []
    },
    {
      "cell_type": "markdown",
      "metadata": {
        "id": "ObA9PRtQL9hT"
      },
      "source": [
        "#### [Python物件導向]淺談Python類別(Class)\n",
        "\n",
        "> 在學習程式語言時，或多或少都有聽過物件導向程式設計(Object-oriented programming，簡稱OOP)，它是一個具有物件(Object)概念的開發方式，能夠提高軟體的重用性、擴充性及維護性，在開發大型的應用程式時更是被廣為使用，所以在現今多數的程式語言都有此種開發方式，Python當然也不例外。而要使用物件導向程式設計就必須對類別(Class)及物件(Object)等有一些基本的了解; 簡單來說，就是物件(Object)的藍圖(blueprint)。就像要生產一部汽車時，都會有設計圖，藉此可以知道此類汽車會有哪些特性及功能，類別(Class)就類似設計圖，會定義未來產生物件(Object)時所擁有的屬性(Attribute)及方法(Method)"
      ]
    },
    {
      "cell_type": "markdown",
      "metadata": {
        "id": "hAzL_lTkL9hU"
      },
      "source": [
        "The syntax for defining classes in Python is straightforward:"
      ]
    },
    {
      "cell_type": "code",
      "metadata": {
        "id": "RWdbaGigL9hU"
      },
      "source": [
        "# P1142\n",
        "class Car:\n",
        "\n",
        "    # Constructor\n",
        "    def __init__(self, name):\n",
        "        self.name = name  # Create an instance variable\n",
        "\n",
        "    # Instance method\n",
        "    def greet(self, loud=False):\n",
        "        if loud:\n",
        "          print('HELLO, {}'.format(self.name.upper()))\n",
        "        else:\n",
        "          print('Hello, {}!'.format(self.name))\n",
        "\n",
        "g = Car('Toyota')  \n",
        "g.greet()        \n",
        "g.greet(loud=True)  \n",
        "        "
      ],
      "execution_count": null,
      "outputs": []
    },
    {
      "cell_type": "code",
      "metadata": {
        "id": "4OJlWKOqP55O"
      },
      "source": [
        "### 實作1182\n",
        "\n",
        "\n",
        "\n"
      ],
      "execution_count": null,
      "outputs": []
    },
    {
      "cell_type": "markdown",
      "metadata": {
        "id": "tEINf4bEL9jR"
      },
      "source": [
        "### 作圖模組：Matplotlib"
      ]
    },
    {
      "cell_type": "markdown",
      "metadata": {
        "id": "0hgVWLaXL9jR"
      },
      "source": [
        "> Matplotlib 是一個繪圖庫。 本節簡單介紹一下`matplotlib.pyplot`模塊，它提供了一個類似於MATLAB的繪圖系統。\n",
        "\n",
        "> Matplotlib is a plotting library. In this section give a brief introduction to the `matplotlib.pyplot` module, which provides a plotting system similar to that of MATLAB."
      ]
    },
    {
      "cell_type": "code",
      "metadata": {
        "id": "cmh_7c6KL9jR"
      },
      "source": [
        "# P1143\n",
        "# 加載python模塊 (Load python module)\n",
        "import numpy as np\n",
        "import matplotlib.pyplot as plt\n",
        "\n",
        "# 通過運行這個特殊的%matplotlib iPython命令，我們將可顯示圖形\n",
        "%matplotlib inline "
      ],
      "execution_count": null,
      "outputs": []
    },
    {
      "cell_type": "markdown",
      "metadata": {
        "id": "U5Z_oMoLL9jV"
      },
      "source": [
        "### 作圖 (Plotting):\n",
        "\n",
        "> matplotlib 中最重要的函數是 plot，它允許您繪製二維數據。 這是一個簡單的例子："
      ]
    },
    {
      "cell_type": "code",
      "metadata": {
        "id": "pua52BGeL9jW"
      },
      "source": [
        "# P1144\n",
        "# Compute the x and y coordinates for points on a sine curve\n",
        "x = np.arange(0, 2 * np.pi, 0.01)\n",
        "y = np.sin(x)\n",
        "\n",
        "# Plot the points using matplotlib\n",
        "plt.plot(x, y)"
      ],
      "execution_count": null,
      "outputs": []
    },
    {
      "cell_type": "markdown",
      "metadata": {
        "id": "9W2VAcLiL9jX"
      },
      "source": [
        "只需一點額外的工作，我們就可以輕鬆地一次繪製多條線，並添加標題、圖例和軸標籤："
      ]
    },
    {
      "cell_type": "code",
      "metadata": {
        "id": "TfCQHJ5AL9jY"
      },
      "source": [
        "# P1145\n",
        "y_sin = np.sin(x)\n",
        "y_cos = np.cos(x)\n",
        "\n",
        "# 使用 matplotlib 繪製點\n",
        "plt.plot(x, y_sin)\n",
        "plt.plot(x, y_cos)\n",
        "plt.xlabel('x axis label')\n",
        "plt.ylabel('y axis label')\n",
        "plt.title('Sine and Cosine')\n",
        "plt.legend(['Sine', 'Cosine'])"
      ],
      "execution_count": null,
      "outputs": []
    },
    {
      "cell_type": "markdown",
      "metadata": {
        "id": "R5IeAY03L9ja"
      },
      "source": [
        "###Subplots: 您可以使用 subplot 函數在同一圖中繪製不同的內容。 下面是一個例子： "
      ]
    },
    {
      "cell_type": "code",
      "metadata": {
        "id": "dM23yGH9L9ja"
      },
      "source": [
        "# P1146\n",
        "# 計算 x 和 y 坐標\n",
        "x = np.arange(0, 2 * np.pi, 0.01)\n",
        "y_sin = np.sin(x)\n",
        "y_cos = np.cos(x)\n",
        "\n",
        "plt.subplot(211) # Laytout 2X1, plot #1\n",
        "plt.plot(x, y_sin, color = 'r') # red\n",
        "plt.title('sin-red')\n",
        "\n",
        "plt.subplot(212)\n",
        "plt.plot(x, y_cos, color = 'g') # green\n",
        "plt.title('cos-green')\n",
        "\n",
        "plt.show() # Show圖"
      ],
      "execution_count": null,
      "outputs": []
    },
    {
      "cell_type": "code",
      "metadata": {
        "id": "2pZ5wUcme1tu"
      },
      "source": [
        "# P1147\n",
        "# 如何用 matplotlib 繪製一個圓？\n",
        "\n",
        "x1 = y_cos \n",
        "x2 = y_sin \n",
        "\n",
        "fig, ax = plt.subplots(1)\n",
        "\n",
        "ax.plot(x1, x2, color = 'r')\n",
        "ax.set_aspect(1)\n",
        "\n",
        "plt.xlim(-1.1,1.1)\n",
        "plt.ylim(-1.1,1.1)\n",
        "\n",
        "plt.grid(linestyle='--')\n",
        "plt.title('Plot a circle by Horace', fontsize=10)\n",
        "plt.savefig(\"plot_circle_matplotlib_01.png\", bbox_inches='tight')\n",
        "\n",
        "plt.show()\n",
        "\n"
      ],
      "execution_count": null,
      "outputs": []
    },
    {
      "cell_type": "code",
      "metadata": {
        "id": "5t6HCg8zmE-A"
      },
      "source": [
        "### 實作1185\n",
        "x = np.arange(0, 2 * np.pi, 0.01)\n",
        "y_sin = np.sin(x)\n",
        "y_cos = np.cos(x)\n",
        "\n",
        "y_sin2 = np.sin(x+pi)\n",
        "y_cos2 = np.cos(x+pi)\n",
        "\n",
        "plt.subplots_adjust( left=0.1, right=1.5, top=1.5, bottom=0.1, wspace=0.2, hspace=0.2)\n",
        "\n",
        "\n",
        "\n",
        "\n",
        "\n",
        "\n",
        "\n",
        "\n",
        "\n",
        "\n",
        "\n"
      ],
      "execution_count": null,
      "outputs": []
    },
    {
      "cell_type": "markdown",
      "metadata": {
        "id": "HZa307teoeJU"
      },
      "source": [
        ""
      ]
    }
  ]
}