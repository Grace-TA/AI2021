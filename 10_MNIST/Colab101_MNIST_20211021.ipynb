{
  "nbformat": 4,
  "nbformat_minor": 0,
  "metadata": {
    "colab": {
      "name": "Colab101_MNIST_20211021",
      "provenance": [],
      "collapsed_sections": [
        "8nghyRYJP_XV",
        "vOI6pg7jLrq6"
      ],
      "include_colab_link": true
    },
    "kernelspec": {
      "name": "python3",
      "display_name": "Python 3"
    },
    "language_info": {
      "name": "python"
    }
  },
  "cells": [
    {
      "cell_type": "markdown",
      "metadata": {
        "id": "view-in-github",
        "colab_type": "text"
      },
      "source": [
        "<a href=\"https://colab.research.google.com/github/Grace-TA/AI2021/blob/main/10_MNIST/Colab101_MNIST_20211021.ipynb\" target=\"_parent\"><img src=\"https://colab.research.google.com/assets/colab-badge.svg\" alt=\"Open In Colab\"/></a>"
      ]
    },
    {
      "cell_type": "markdown",
      "metadata": {
        "id": "vOI6pg7jLrq6"
      },
      "source": [
        "# Text book"
      ]
    },
    {
      "cell_type": "code",
      "metadata": {
        "id": "sBC8IkkiLuLS"
      },
      "source": [
        "import numpy as np\n",
        "from keras.utils import np_utils\n",
        "np.random.seed(10)\n",
        "from keras.datasets import mnist\n",
        "import matplotlib.pyplot as plt\n",
        "from keras.models import Sequential\n",
        "from keras.layers import Dense\n",
        "\n"
      ],
      "execution_count": null,
      "outputs": []
    },
    {
      "cell_type": "code",
      "metadata": {
        "id": "yKPLYQMw8OCZ"
      },
      "source": [
        "def show_image(image):\n",
        "    fig = plt.gcf()\n",
        "    fig.set_size_inches(2, 2)\n",
        "    plt.imshow(image, cmap='binary')\n",
        "    plt.show() \n",
        "\n",
        "def show_images_labels_predictions(images,labels,predictions,start_id,num=10):\n",
        "    plt.gcf().set_size_inches(12, 14)\n",
        "    if num>25: num=25 \n",
        "    for i in range(0, num):\n",
        "        ax=plt.subplot(5,5, 1+i)\n",
        "        #顯示黑白圖片\n",
        "        ax.imshow(images[start_id], cmap='binary')\n",
        "        \n",
        "        # 有 AI 預測結果資料, 才在標題顯示預測結果\n",
        "        if( len(predictions) > 0 ) :\n",
        "            title = 'ai = ' + str(predictions[i])\n",
        "            # 預測正確顯示(o), 錯誤顯示(x)\n",
        "            title += (' (o)' if predictions[i]==labels[i] else ' (x)') \n",
        "            title += '\\nlabel = ' + str(labels[i])\n",
        "        # 沒有 AI 預測結果資料, 只在標題顯示真實數值\n",
        "        else :\n",
        "            title = 'label = ' + str(labels[i])\n",
        "            \n",
        "        # X, Y 軸不顯示刻度    \n",
        "        ax.set_title(title,fontsize=12) \n",
        "        ax.set_xticks([]);ax.set_yticks([])        \n",
        "        start_id+=1 \n",
        "    plt.show()"
      ],
      "execution_count": null,
      "outputs": []
    },
    {
      "cell_type": "code",
      "metadata": {
        "id": "pHpSKF5ULzVr",
        "colab": {
          "base_uri": "https://localhost:8080/"
        },
        "outputId": "cb62ec42-762b-4bfd-af61-12348ead2f67"
      },
      "source": [
        "#建立訓練資料和測試資料，包括訓練特徵集、訓練標籤和測試特徵集、測試標籤\t\n",
        "(train_feature, train_label),\\\n",
        "(test_feature, test_label) = mnist.load_data()\n",
        "\n",
        "#show_image(train_feature[0]) \n",
        "#show_images_labels_predictions(train_feature,train_label,[],0,10)    \n",
        "\n",
        "#將 Features 特徵值換為 784個 float 數字的 1 維向量\n",
        "train_feature_vector =train_feature.reshape(len(train_feature), 784).astype('float32')\n",
        "test_feature_vector = test_feature.reshape(len( test_feature), 784).astype('float32')\n",
        "\n",
        "#Features 特徵值標準化\n",
        "train_feature_normalize = train_feature_vector/255\n",
        "test_feature_normalize = test_feature_vector/255"
      ],
      "execution_count": null,
      "outputs": [
        {
          "output_type": "stream",
          "name": "stdout",
          "text": [
            "Downloading data from https://storage.googleapis.com/tensorflow/tf-keras-datasets/mnist.npz\n",
            "11493376/11490434 [==============================] - 0s 0us/step\n",
            "11501568/11490434 [==============================] - 0s 0us/step\n"
          ]
        }
      ]
    },
    {
      "cell_type": "code",
      "metadata": {
        "id": "sp8NhL9cL4Yz"
      },
      "source": [
        "#label 轉換為 One-Hot Encoding 編碼\n",
        "train_label_onehot = np_utils.to_categorical(train_label)\n",
        "test_label_onehot = np_utils.to_categorical(test_label)\n"
      ],
      "execution_count": null,
      "outputs": []
    },
    {
      "cell_type": "code",
      "metadata": {
        "id": "BZShRt7KL9Y7"
      },
      "source": [
        "#建立模型\n",
        "model = Sequential()\n",
        "#輸入層：784, 隱藏層：256，輸出層：10\n",
        "model.add(Dense(units=256, \n",
        "                input_dim=784, \n",
        "                kernel_initializer='normal', \n",
        "                activation='relu'))\n",
        "model.add(Dense(units=10, \n",
        "                kernel_initializer='normal', \n",
        "                activation='softmax'))"
      ],
      "execution_count": null,
      "outputs": []
    },
    {
      "cell_type": "code",
      "metadata": {
        "id": "dQUg1CX2L-h-"
      },
      "source": [
        "#定義訓練方式\n",
        "model.compile(loss='categorical_crossentropy', \n",
        "              optimizer='adam', metrics=['accuracy'])"
      ],
      "execution_count": null,
      "outputs": []
    },
    {
      "cell_type": "code",
      "metadata": {
        "id": "y1J67AoOMAyk",
        "colab": {
          "base_uri": "https://localhost:8080/"
        },
        "outputId": "7992f5ed-b1d4-423d-bb6d-8f9d8083d90c"
      },
      "source": [
        "#以(train_feature_normalize,train_label_onehot)資料訓練，\n",
        "#訓練資料保留 20% 作驗證,訓練10次、每批次讀取200筆資料，顯示簡易訓練過程\n",
        "train_history =model.fit(x=train_feature_normalize,\n",
        "                         y=train_label_onehot,validation_split=0.2, \n",
        "                         epochs=10, batch_size=200,verbose=2)"
      ],
      "execution_count": null,
      "outputs": [
        {
          "output_type": "stream",
          "name": "stdout",
          "text": [
            "Epoch 1/10\n",
            "240/240 - 2s - loss: 0.4469 - accuracy: 0.8801 - val_loss: 0.2290 - val_accuracy: 0.9360\n",
            "Epoch 2/10\n",
            "240/240 - 1s - loss: 0.1980 - accuracy: 0.9442 - val_loss: 0.1662 - val_accuracy: 0.9534\n",
            "Epoch 3/10\n",
            "240/240 - 1s - loss: 0.1423 - accuracy: 0.9596 - val_loss: 0.1350 - val_accuracy: 0.9611\n",
            "Epoch 4/10\n",
            "240/240 - 1s - loss: 0.1071 - accuracy: 0.9696 - val_loss: 0.1181 - val_accuracy: 0.9663\n",
            "Epoch 5/10\n",
            "240/240 - 1s - loss: 0.0860 - accuracy: 0.9756 - val_loss: 0.1077 - val_accuracy: 0.9684\n",
            "Epoch 6/10\n",
            "240/240 - 2s - loss: 0.0688 - accuracy: 0.9808 - val_loss: 0.0961 - val_accuracy: 0.9702\n",
            "Epoch 7/10\n",
            "240/240 - 2s - loss: 0.0566 - accuracy: 0.9843 - val_loss: 0.0887 - val_accuracy: 0.9740\n",
            "Epoch 8/10\n",
            "240/240 - 2s - loss: 0.0464 - accuracy: 0.9876 - val_loss: 0.0842 - val_accuracy: 0.9734\n",
            "Epoch 9/10\n",
            "240/240 - 2s - loss: 0.0389 - accuracy: 0.9900 - val_loss: 0.0794 - val_accuracy: 0.9747\n",
            "Epoch 10/10\n",
            "240/240 - 1s - loss: 0.0322 - accuracy: 0.9921 - val_loss: 0.0810 - val_accuracy: 0.9755\n"
          ]
        }
      ]
    },
    {
      "cell_type": "code",
      "metadata": {
        "id": "BOzYvHr5MFFk",
        "colab": {
          "base_uri": "https://localhost:8080/"
        },
        "outputId": "00485256-5ca0-4a0f-8024-a71a6aceb66a"
      },
      "source": [
        "#評估準確率\n",
        "scores = model.evaluate(test_feature_normalize, test_label_onehot)\n",
        "print('\\n準確率=',scores[1])\n",
        "\n"
      ],
      "execution_count": null,
      "outputs": [
        {
          "output_type": "stream",
          "name": "stdout",
          "text": [
            "313/313 [==============================] - 1s 2ms/step - loss: 0.0734 - accuracy: 0.9779\n",
            "\n",
            "準確率= 0.9779000282287598\n"
          ]
        }
      ]
    },
    {
      "cell_type": "code",
      "metadata": {
        "id": "BoATy83kMQ70"
      },
      "source": [
        "#預測\n",
        "#prediction=model.predict_classes(test_feature_normalize)\n",
        "prediction = model.predict(test_feature_normalize)\n",
        "prediction = np.argmax(prediction,axis=1)\n"
      ],
      "execution_count": null,
      "outputs": []
    },
    {
      "cell_type": "code",
      "metadata": {
        "id": "ZJfCSMkjMS8b",
        "colab": {
          "base_uri": "https://localhost:8080/",
          "height": 338
        },
        "outputId": "de6e5e3a-98fe-471f-cf6b-8aa2e48e964d"
      },
      "source": [
        "#顯示圖像、預測值、真實值 \n",
        "show_images_labels_predictions(test_feature,test_label,prediction,0)"
      ],
      "execution_count": null,
      "outputs": [
        {
          "output_type": "display_data",
          "data": {
            "image/png": "[encoded data removed]",
            "text/plain": [
              "<Figure size 864x1008 with 10 Axes>"
            ]
          },
          "metadata": {}
        }
      ]
    },
    {
      "cell_type": "code",
      "metadata": {
        "colab": {
          "base_uri": "https://localhost:8080/",
          "height": 181
        },
        "id": "SaVbzFGk8oha",
        "outputId": "df25aa88-2086-4b30-83e1-47cc30c8c42d"
      },
      "source": [
        "show_images_labels_predictions(test_feature,test_label,prediction,0,1)"
      ],
      "execution_count": null,
      "outputs": [
        {
          "output_type": "display_data",
          "data": {
            "image/png": "[encoded data removed]",
            "text/plain": [
              "<Figure size 864x1008 with 1 Axes>"
            ]
          },
          "metadata": {}
        }
      ]
    },
    {
      "cell_type": "code",
      "metadata": {
        "colab": {
          "base_uri": "https://localhost:8080/",
          "height": 181
        },
        "id": "S81tWBwS9M46",
        "outputId": "aad7d2fb-9d94-4ffc-d37a-4829c94ba815"
      },
      "source": [
        "show_images_labels_predictions(test_feature,test_label,prediction,0,5)"
      ],
      "execution_count": null,
      "outputs": [
        {
          "output_type": "display_data",
          "data": {
            "image/png": "[encoded data removed]",
            "text/plain": [
              "<Figure size 864x1008 with 5 Axes>"
            ]
          },
          "metadata": {}
        }
      ]
    },
    {
      "cell_type": "code",
      "metadata": {
        "colab": {
          "base_uri": "https://localhost:8080/",
          "height": 496
        },
        "id": "sjzrbPpD9Hky",
        "outputId": "5726b5ab-341d-42eb-cb92-76bd6fbc6229"
      },
      "source": [
        "show_images_labels_predictions(test_feature,test_label,prediction,0,15)"
      ],
      "execution_count": null,
      "outputs": [
        {
          "output_type": "display_data",
          "data": {
            "image/png": "[encoded data removed]",
            "text/plain": [
              "<Figure size 864x1008 with 15 Axes>"
            ]
          },
          "metadata": {}
        }
      ]
    }
  ]
}