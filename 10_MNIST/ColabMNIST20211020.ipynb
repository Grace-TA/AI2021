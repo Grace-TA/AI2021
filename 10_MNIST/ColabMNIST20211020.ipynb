{
  "nbformat": 4,
  "nbformat_minor": 0,
  "metadata": {
    "colab": {
      "name": "「Colab101_MNIST",
      "provenance": [],
      "collapsed_sections": [],
      "include_colab_link": true
    },
    "kernelspec": {
      "name": "python3",
      "display_name": "Python 3"
    },
    "language_info": {
      "name": "python"
    }
  },
  "cells": [
    {
      "cell_type": "markdown",
      "metadata": {
        "id": "view-in-github",
        "colab_type": "text"
      },
      "source": [
        "<a href=\"https://colab.research.google.com/github/Grace-TA/AI2021/blob/main/10_MNIST/ColabMNIST20211020.ipynb\" target=\"_parent\"><img src=\"https://colab.research.google.com/assets/colab-badge.svg\" alt=\"Open In Colab\"/></a>"
      ]
    },
    {
      "cell_type": "markdown",
      "metadata": {
        "id": "8nghyRYJP_XV"
      },
      "source": [
        "# Welcome!! 歡迎加入人工智慧暨網站系統應用專業人才設計專班. \n",
        "\n",
        "讓我們好好來瞭解體驗與學習人工智慧與深度學習等相關的知識與應用! \n",
        "\n",
        "如果有任何學習上的問題都歡迎可以留言或是寫信給我們助教喔! \n",
        "\n",
        "助教的e-mail address是ta2021.vnu@gmail.com\n",
        "\n",
        "Prepared by Horace Chen, Date: October 2021\n",
        "\n",
        "\n"
      ]
    },
    {
      "cell_type": "markdown",
      "metadata": {
        "id": "-eiM4kKDG-dP"
      },
      "source": [
        "Keras: Keras 是一個開源專案，透過 Python 實做的深度學習高階 API 函式庫。\n",
        "\n",
        "https://blog.toright.com/posts/6809/keras-machine-learning-mnist.html\n",
        "\n"
      ]
    },
    {
      "cell_type": "markdown",
      "metadata": {
        "id": "vOI6pg7jLrq6"
      },
      "source": [
        "# MNIST\n",
        "## Text book: Chapter 2 MLP, MNIST, Overfitting, DropOut"
      ]
    },
    {
      "cell_type": "code",
      "metadata": {
        "id": "sBC8IkkiLuLS"
      },
      "source": [
        "import numpy as np\n",
        "from keras.utils import np_utils\n",
        "np.random.seed(10)\n",
        "from keras.datasets import mnist\n",
        "import matplotlib.pyplot as plt\n",
        "from keras.models import Sequential\n",
        "from keras.layers import Dense\n",
        "\n"
      ],
      "execution_count": 1,
      "outputs": []
    },
    {
      "cell_type": "code",
      "metadata": {
        "id": "UkSoLXmsLyBz"
      },
      "source": [
        "def show_image(image):\n",
        "    fig = plt.gcf()\n",
        "    fig.set_size_inches(2, 2)\n",
        "    plt.imshow(image, cmap='binary')\n",
        "    plt.show() \n",
        "\n",
        "def show_images_labels_predictions(images,labels,\n",
        "                                  predictions,start_id,num=10):\n",
        "    plt.gcf().set_size_inches(12, 14)\n",
        "    if num>25: num=25 \n",
        "    for i in range(0, num):\n",
        "        ax=plt.subplot(5,5, 1+i)\n",
        "        #顯示黑白圖片\n",
        "        ax.imshow(images[start_id], cmap='binary')\n",
        "        \n",
        "        # 有 AI 預測結果資料, 才在標題顯示預測結果\n",
        "        if( len(predictions) > 0 ) :\n",
        "            title = 'ai = ' + str(predictions[i])\n",
        "            # 預測正確顯示(o), 錯誤顯示(x)\n",
        "            title += (' (o)' if predictions[i]==labels[i] else ' (x)') \n",
        "            title += '\\nlabel = ' + str(labels[i])\n",
        "        # 沒有 AI 預測結果資料, 只在標題顯示真實數值\n",
        "        else :\n",
        "            title = 'label = ' + str(labels[i])\n",
        "            \n",
        "        # X, Y 軸不顯示刻度    \n",
        "        ax.set_title(title,fontsize=12) \n",
        "        ax.set_xticks([]);ax.set_yticks([])        \n",
        "        start_id+=1 \n",
        "    plt.show()"
      ],
      "execution_count": 2,
      "outputs": []
    },
    {
      "cell_type": "markdown",
      "metadata": {
        "id": "HX5ruGnaDgeB"
      },
      "source": [
        "## 步驟 1. 資料集準備 "
      ]
    },
    {
      "cell_type": "code",
      "metadata": {
        "id": "pHpSKF5ULzVr",
        "colab": {
          "base_uri": "https://localhost:8080/"
        },
        "outputId": "f0baaad8-a4f6-4d20-fe6d-7e097b71a493"
      },
      "source": [
        "#建立訓練資料和測試資料，包括訓練特徵集、訓練標籤和測試特徵集、測試標籤\t\n",
        "(train_feature, train_label),\\\n",
        "(test_feature, test_label) = mnist.load_data()\n",
        "\n",
        "#show_image(train_feature[0]) \n",
        "#show_images_labels_predictions(train_feature,train_label,[],0,10)    \n",
        "\n",
        "#將 Features 特徵值換為 784個 float 數字的 1 維向量\n",
        "train_feature_vector =train_feature.reshape(len(train_feature), 784).astype('float32')\n",
        "test_feature_vector = test_feature.reshape(len( test_feature), 784).astype('float32')\n",
        "\n",
        "#Features 特徵值標準化\n",
        "train_feature_normalize = train_feature_vector/255\n",
        "test_feature_normalize = test_feature_vector/255"
      ],
      "execution_count": 3,
      "outputs": [
        {
          "output_type": "stream",
          "name": "stdout",
          "text": [
            "Downloading data from https://storage.googleapis.com/tensorflow/tf-keras-datasets/mnist.npz\n",
            "11493376/11490434 [==============================] - 0s 0us/step\n",
            "11501568/11490434 [==============================] - 0s 0us/step\n"
          ]
        }
      ]
    },
    {
      "cell_type": "code",
      "metadata": {
        "id": "sp8NhL9cL4Yz"
      },
      "source": [
        "#label 轉換為 One-Hot Encoding 編碼\n",
        "train_label_onehot = np_utils.to_categorical(train_label)\n",
        "test_label_onehot = np_utils.to_categorical(test_label)\n"
      ],
      "execution_count": 4,
      "outputs": []
    },
    {
      "cell_type": "markdown",
      "metadata": {
        "id": "cmiR0sdQDm3A"
      },
      "source": [
        "## 步驟 2. 建模訓練 / 訓練 "
      ]
    },
    {
      "cell_type": "code",
      "metadata": {
        "id": "BZShRt7KL9Y7"
      },
      "source": [
        "#建立模型\n",
        "model = Sequential()\n",
        "#輸入層：784, 隱藏層：256，輸出層：10\n",
        "model.add(Dense(units=256, \n",
        "                input_dim=784, \n",
        "                kernel_initializer='normal', \n",
        "                activation='relu'))\n",
        "model.add(Dense(units=10, \n",
        "                kernel_initializer='normal', \n",
        "                activation='softmax'))"
      ],
      "execution_count": 5,
      "outputs": []
    },
    {
      "cell_type": "code",
      "metadata": {
        "id": "dQUg1CX2L-h-"
      },
      "source": [
        "#定義訓練方式\n",
        "model.compile(loss='categorical_crossentropy', \n",
        "              optimizer='adam', metrics=['accuracy'])"
      ],
      "execution_count": 6,
      "outputs": []
    },
    {
      "cell_type": "code",
      "metadata": {
        "id": "y1J67AoOMAyk",
        "colab": {
          "base_uri": "https://localhost:8080/"
        },
        "outputId": "a966f9db-f31d-468e-92b1-6e72f09a8c67"
      },
      "source": [
        "#以(train_feature_normalize,train_label_onehot)資料訓練，\n",
        "#訓練資料保留 20% 作驗證,訓練10次、每批次讀取200筆資料，顯示簡易訓練過程\n",
        "train_history =model.fit(x=train_feature_normalize,\n",
        "                         y=train_label_onehot,validation_split=0.2, \n",
        "                         epochs=10, batch_size=200,verbose=2)"
      ],
      "execution_count": 7,
      "outputs": [
        {
          "output_type": "stream",
          "name": "stdout",
          "text": [
            "Epoch 1/10\n",
            "240/240 - 2s - loss: 0.4356 - accuracy: 0.8845 - val_loss: 0.2201 - val_accuracy: 0.9387\n",
            "Epoch 2/10\n",
            "240/240 - 1s - loss: 0.1879 - accuracy: 0.9468 - val_loss: 0.1586 - val_accuracy: 0.9551\n",
            "Epoch 3/10\n",
            "240/240 - 1s - loss: 0.1326 - accuracy: 0.9627 - val_loss: 0.1247 - val_accuracy: 0.9642\n",
            "Epoch 4/10\n",
            "240/240 - 1s - loss: 0.1013 - accuracy: 0.9717 - val_loss: 0.1070 - val_accuracy: 0.9688\n",
            "Epoch 5/10\n",
            "240/240 - 1s - loss: 0.0797 - accuracy: 0.9779 - val_loss: 0.0964 - val_accuracy: 0.9716\n",
            "Epoch 6/10\n",
            "240/240 - 1s - loss: 0.0656 - accuracy: 0.9817 - val_loss: 0.0865 - val_accuracy: 0.9739\n",
            "Epoch 7/10\n",
            "240/240 - 1s - loss: 0.0533 - accuracy: 0.9855 - val_loss: 0.0838 - val_accuracy: 0.9745\n",
            "Epoch 8/10\n",
            "240/240 - 1s - loss: 0.0439 - accuracy: 0.9885 - val_loss: 0.0894 - val_accuracy: 0.9719\n",
            "Epoch 9/10\n",
            "240/240 - 1s - loss: 0.0363 - accuracy: 0.9908 - val_loss: 0.0789 - val_accuracy: 0.9766\n",
            "Epoch 10/10\n",
            "240/240 - 1s - loss: 0.0305 - accuracy: 0.9921 - val_loss: 0.0840 - val_accuracy: 0.9750\n"
          ]
        }
      ]
    },
    {
      "cell_type": "code",
      "metadata": {
        "id": "BOzYvHr5MFFk",
        "colab": {
          "base_uri": "https://localhost:8080/"
        },
        "outputId": "6ab999dc-ddc3-4afe-a920-52ef66cf4849"
      },
      "source": [
        "#評估準確率\n",
        "scores = model.evaluate(test_feature_normalize, test_label_onehot)\n",
        "print('\\n準確率=',scores[1])\n",
        "\n"
      ],
      "execution_count": 8,
      "outputs": [
        {
          "output_type": "stream",
          "name": "stdout",
          "text": [
            "313/313 [==============================] - 1s 2ms/step - loss: 0.0739 - accuracy: 0.9771\n",
            "\n",
            "準確率= 0.9771000146865845\n"
          ]
        }
      ]
    },
    {
      "cell_type": "markdown",
      "metadata": {
        "id": "0xinhOQBDtKB"
      },
      "source": [
        "## 步驟 3. 預測未知 / 預測 "
      ]
    },
    {
      "cell_type": "code",
      "metadata": {
        "id": "BoATy83kMQ70"
      },
      "source": [
        "#預測\n",
        "#prediction=model.predict_classes(test_feature_normalize)\n",
        "prediction = model.predict(test_feature_normalize)\n",
        "prediction = np.argmax(prediction,axis=1)\n"
      ],
      "execution_count": 9,
      "outputs": []
    },
    {
      "cell_type": "code",
      "metadata": {
        "id": "ZJfCSMkjMS8b",
        "colab": {
          "base_uri": "https://localhost:8080/",
          "height": 338
        },
        "outputId": "87fbb03d-5b80-432c-a9fa-5dfc4dbd7887"
      },
      "source": [
        "#顯示圖像、預測值、真實值 \n",
        "show_images_labels_predictions(test_feature,test_label,prediction,0)"
      ],
      "execution_count": 10,
      "outputs": [
        {
          "output_type": "display_data",
          "data": {
            "image/png": "[encoded data removed]",
            "text/plain": [
              "<Figure size 864x1008 with 10 Axes>"
            ]
          },
          "metadata": {}
        }
      ]
    }
  ]
}