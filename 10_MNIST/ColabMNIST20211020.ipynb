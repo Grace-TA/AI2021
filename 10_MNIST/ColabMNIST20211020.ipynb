{
  "nbformat": 4,
  "nbformat_minor": 0,
  "metadata": {
    "colab": {
      "name": "「Colab101_MNIST",
      "provenance": [],
      "collapsed_sections": [],
      "include_colab_link": true
    },
    "kernelspec": {
      "name": "python3",
      "display_name": "Python 3"
    },
    "language_info": {
      "name": "python"
    }
  },
  "cells": [
    {
      "cell_type": "markdown",
      "metadata": {
        "id": "view-in-github",
        "colab_type": "text"
      },
      "source": [
        "<a href=\"https://colab.research.google.com/github/Grace-TA/AI2021/blob/main/10_MNIST/ColabMNIST20211020.ipynb\" target=\"_parent\"><img src=\"https://colab.research.google.com/assets/colab-badge.svg\" alt=\"Open In Colab\"/></a>"
      ]
    },
    {
      "cell_type": "markdown",
      "metadata": {
        "id": "8nghyRYJP_XV"
      },
      "source": [
        "# Welcome!! 歡迎加入人工智慧暨網站系統應用專業人才設計專班. \n",
        "\n",
        "讓我們好好來瞭解體驗與學習人工智慧與深度學習等相關的知識與應用! \n",
        "\n",
        "如果有任何學習上的問題都歡迎可以留言或是寫信給我們助教喔! \n",
        "\n",
        "助教的e-mail address是ta2021.vnu@gmail.com\n",
        "\n",
        "Prepared by Horace Chen, Date: October 2021\n",
        "\n",
        "\n"
      ]
    },
    {
      "cell_type": "markdown",
      "metadata": {
        "id": "-eiM4kKDG-dP"
      },
      "source": [
        "Keras: Keras 是一個開源專案，透過 Python 實做的深度學習高階 API 函式庫。\n",
        "\n",
        "https://blog.toright.com/posts/6809/keras-machine-learning-mnist.html\n",
        "\n"
      ]
    },
    {
      "cell_type": "markdown",
      "metadata": {
        "id": "3MXjCEh2tLmz"
      },
      "source": [
        "## 先來簡單快速的玩一下AI中的深度學習 (Deep Learning)!! 再回來學習Python, 才會比較知道為什麼要學Python!\n",
        "\n"
      ]
    },
    {
      "cell_type": "markdown",
      "metadata": {
        "id": "8KN38v4NxCZd"
      },
      "source": [
        "## 步驟 1. 資料集準備 "
      ]
    },
    {
      "cell_type": "code",
      "metadata": {
        "id": "l5ZkiF4rPe4g"
      },
      "source": [
        "# 21005\n",
        "try:\n",
        "    %tensorflow_version 2.x #指定使用tensorflow 2.x\n",
        "except Exception:\n",
        "    pass\n",
        "import tensorflow as tf # tf 1.X升級為2.X"
      ],
      "execution_count": null,
      "outputs": []
    },
    {
      "cell_type": "code",
      "metadata": {
        "id": "jCs4jaGwtzBK"
      },
      "source": [
        "# 顯示TensorFlow版本\n",
        "print(tf.__version__)"
      ],
      "execution_count": null,
      "outputs": []
    },
    {
      "cell_type": "code",
      "metadata": {
        "id": "q9Sm_E2ouWSQ"
      },
      "source": [
        "# 21010: SOP步驟1.載入數據\n",
        "import tensorflow as tf \n",
        "mnist = tf.keras.datasets.mnist # 載入數據\n",
        "# 數據集的組成(x_train:訓練用data, y_train:訓練用label), (x_test:測試用data, y_test:測試用label)   \n",
        "(x_train, y_train) ,  (x_test, y_test) = mnist.load_data() \n",
        "# 數據預處理,將data轉成0~1的小數(歸一化)\n",
        "x_train, x_test = x_train / 255.0, x_test / 255.0"
      ],
      "execution_count": null,
      "outputs": []
    },
    {
      "cell_type": "code",
      "metadata": {
        "id": "lxoDPsHc9yEQ"
      },
      "source": [
        "!ls -lrt\n"
      ],
      "execution_count": null,
      "outputs": []
    },
    {
      "cell_type": "code",
      "metadata": {
        "id": "Eqgl975T91Tt"
      },
      "source": [
        "%cd 'sample_data'\n",
        "!pwd"
      ],
      "execution_count": null,
      "outputs": []
    },
    {
      "cell_type": "code",
      "metadata": {
        "id": "hz8F0OOp95fN"
      },
      "source": [
        "!ls -lrt"
      ],
      "execution_count": null,
      "outputs": []
    },
    {
      "cell_type": "code",
      "metadata": {
        "id": "weGEjZDgu7fY"
      },
      "source": [
        "#21040 \n",
        "print('訓練用圖片數量',len(x_train)) #training data 總共有60000張圖片\n",
        "print('測試用圖片數量',len(x_test)) #test data 總共有10000張圖片\n",
        "print('每張圖片解析度',x_train[0].shape) #每張圖片（0第一張）大小為 28x28 pixel"
      ],
      "execution_count": null,
      "outputs": []
    },
    {
      "cell_type": "markdown",
      "metadata": {
        "id": "CwLm_hCe4f_0"
      },
      "source": [
        "## 步驟 2. 建模訓練 / 訓練 "
      ]
    },
    {
      "cell_type": "code",
      "metadata": {
        "id": "y2l8ap09vh4X"
      },
      "source": [
        "# 21050 \n",
        "%%time \n",
        "# 建立模型\n",
        "model = tf.keras.models.Sequential([                \n",
        "  tf.keras.layers.Flatten(input_shape=(28, 28)),\n",
        "  tf.keras.layers.Dense(128, activation='relu'),\n",
        "  tf.keras.layers.Dropout(0.2),\n",
        "  tf.keras.layers.Dense(10, activation='softmax')])\n",
        "# 編譯模型 compile\n",
        "model.compile(optimizer='adam',\n",
        "              loss='sparse_categorical_crossentropy', \n",
        "              metrics=['accuracy'])\n",
        "# 訓練模型 training\n",
        "model.fit(x_train, y_train, epochs=20) #epochs=訓練回合數\n",
        "# 儲存模型\n",
        "model.save('Mnist_5.h5')"
      ],
      "execution_count": null,
      "outputs": []
    },
    {
      "cell_type": "markdown",
      "metadata": {
        "id": "NAygfPnC4smM"
      },
      "source": [
        "## 步驟 3. 預測未知 / 預測 "
      ]
    },
    {
      "cell_type": "code",
      "metadata": {
        "colab": {
          "base_uri": "https://localhost:8080/"
        },
        "id": "RsETdWTvvnhH",
        "outputId": "daa34a3b-7ee4-4de7-89ea-11b897a07f73"
      },
      "source": [
        "# 21060\n",
        "model.evaluate(x_test, y_test, verbose=2) #模型的準確率如何?"
      ],
      "execution_count": null,
      "outputs": [
        {
          "output_type": "stream",
          "name": "stdout",
          "text": [
            "313/313 - 0s - loss: 0.0732 - accuracy: 0.9823\n"
          ]
        },
        {
          "output_type": "execute_result",
          "data": {
            "text/plain": [
              "[0.07323486357927322, 0.9822999835014343]"
            ]
          },
          "metadata": {},
          "execution_count": 20
        }
      ]
    },
    {
      "cell_type": "code",
      "metadata": {
        "id": "FDujtWJjwJyn",
        "colab": {
          "base_uri": "https://localhost:8080/",
          "height": 298
        },
        "outputId": "f952f01a-d760-4343-b1e1-59b35e16909c"
      },
      "source": [
        "# 21070 執行預測與顯示圖片\n",
        "from matplotlib.pyplot import imshow\n",
        "prediction = (model.predict(x_test) > 0.5).astype(\"int32\")\n",
        "test = 85\n",
        "print('模型預測數字=',prediction[test],'正確答案(label)=',y_test[test])\n",
        "imshow(x_test[test], cmap='gray_r')"
      ],
      "execution_count": null,
      "outputs": [
        {
          "output_type": "stream",
          "name": "stdout",
          "text": [
            "模型預測數字= [0 0 0 0 1 0 0 0 0 0] 正確答案(label)= 4\n"
          ]
        },
        {
          "output_type": "execute_result",
          "data": {
            "text/plain": [
              "<matplotlib.image.AxesImage at 0x7f970e0feb50>"
            ]
          },
          "metadata": {},
          "execution_count": 21
        },
        {
          "output_type": "display_data",
          "data": {
            "image/png": "[encoded data removed]",
            "text/plain": [
              "<Figure size 432x288 with 1 Axes>"
            ]
          },
          "metadata": {
            "needs_background": "light"
          }
        }
      ]
    },
    {
      "cell_type": "code",
      "metadata": {
        "colab": {
          "base_uri": "https://localhost:8080/",
          "height": 298
        },
        "id": "mSi4mlvowjUm",
        "outputId": "574aa60a-c88c-4659-cc85-82202a833e6b"
      },
      "source": [
        "# 1080 實作: 試試149 151 247 321 340 381, 預測不同的測試集圖片\n",
        "\n",
        "from matplotlib.pyplot import imshow\n",
        "# prediction = model.predict_classes(x_test) \n",
        "prediction = (model.predict(x_test) > 0.5).astype(\"int32\") #針對測試集進行預測分類\n",
        "test = 149\n",
        "print('模型預測數字=',prediction[test],'正確答案(label)=',y_test[test])\n",
        "imshow(x_test[test], cmap='gray_r')"
      ],
      "execution_count": null,
      "outputs": [
        {
          "output_type": "stream",
          "name": "stdout",
          "text": [
            "模型預測數字= [0 0 1 0 0 0 0 0 0 0] 正確答案(label)= 2\n"
          ]
        },
        {
          "output_type": "execute_result",
          "data": {
            "text/plain": [
              "<matplotlib.image.AxesImage at 0x7f970dc02a10>"
            ]
          },
          "metadata": {},
          "execution_count": 22
        },
        {
          "output_type": "display_data",
          "data": {
            "image/png": "[encoded data removed]",
            "text/plain": [
              "<Figure size 432x288 with 1 Axes>"
            ]
          },
          "metadata": {
            "needs_background": "light"
          }
        }
      ]
    },
    {
      "cell_type": "code",
      "metadata": {
        "id": "2876ryXpzCHr",
        "colab": {
          "base_uri": "https://localhost:8080/",
          "height": 225
        },
        "outputId": "e42602a2-2eed-4b9f-d4a0-668f40c077e1"
      },
      "source": [
        "import matplotlib.pyplot as plt\n",
        "i=0\n",
        "for i in range(2000,2009+1): #(起始,結束+1)\n",
        "    x= i % 10 # 求餘數 x=0~9 顯示圖片位置序號\n",
        "    plt.axis('off') #顯示xy軸 on/off\n",
        "    ax=plt.subplot(2,5,x+1) #一次顯示多圖 (列,行,圖片位置序號 1開始)\n",
        "    ax.imshow(x_train[i], cmap='gray_r') #colormap:None(預設), binary(二值化/非黑即白), gray_r, rainbow, seismic, summer\n",
        "    title = str(i)+\",l=\" + str(y_train[i]) #圖片增加文字說明(序號,標籤)\n",
        "    ax.set_title(title, fontsize=10,color='white')  #顯示(文字說明,字型大小,顏色)\n",
        "    ax.set_xticks([]); ax.set_yticks([]) #不顯示xy軸刻度"
      ],
      "execution_count": null,
      "outputs": [
        {
          "output_type": "display_data",
          "data": {
            "image/png": "[encoded data removed]",
            "text/plain": [
              "<Figure size 432x288 with 10 Axes>"
            ]
          },
          "metadata": {}
        }
      ]
    },
    {
      "cell_type": "code",
      "metadata": {
        "colab": {
          "base_uri": "https://localhost:8080/",
          "height": 316
        },
        "id": "f8cThaxW3P7X",
        "outputId": "f8c1ba12-c6f7-46f7-94a8-e2709741fbef"
      },
      "source": [
        "import matplotlib.pyplot as plt\n",
        "i=0\n",
        "for i in range(1000,2009+1): #(起始,結束+1)\n",
        "    x= i % 20 # 求餘數 x=0~9 顯示圖片位置序號\n",
        "    plt.axis('off') #顯示xy軸 on/off\n",
        "    ax=plt.subplot(4,5,x+1) #一次顯示多圖 (列,行,圖片位置序號 1開始)\n",
        "    ax.imshow(x_train[i], cmap='gray_r') #colormap:None(預設), binary(二值化/非黑即白), gray_r, rainbow, seismic, summer\n",
        "    title = str(i)+\",l=\" + str(y_train[i]) #圖片增加文字說明(序號,標籤)\n",
        "    ax.set_title(title, fontsize=10,color='white')  #顯示(文字說明,字型大小,顏色)\n",
        "    ax.set_xticks([]); ax.set_yticks([]) #不顯示xy軸刻度"
      ],
      "execution_count": null,
      "outputs": [
        {
          "output_type": "stream",
          "name": "stderr",
          "text": [
            "/usr/local/lib/python3.7/dist-packages/ipykernel_launcher.py:6: MatplotlibDeprecationWarning: Adding an axes using the same arguments as a previous axes currently reuses the earlier instance.  In a future version, a new instance will always be created and returned.  Meanwhile, this warning can be suppressed, and the future behavior ensured, by passing a unique label to each axes instance.\n",
            "  \n"
          ]
        },
        {
          "output_type": "display_data",
          "data": {
            "image/png": "[encoded data removed]",
            "text/plain": [
              "<Figure size 432x288 with 20 Axes>"
            ]
          },
          "metadata": {}
        }
      ]
    },
    {
      "cell_type": "markdown",
      "metadata": {
        "id": "ZCyDjHK9yRlk"
      },
      "source": [
        ""
      ]
    },
    {
      "cell_type": "code",
      "metadata": {
        "colab": {
          "base_uri": "https://localhost:8080/"
        },
        "id": "2GIZ8Qm14Tne",
        "outputId": "eae2cb71-140d-4d36-88a1-2bb34e9e5d44"
      },
      "source": [
        "# My hand written\n",
        "\n",
        "!pwd"
      ],
      "execution_count": null,
      "outputs": [
        {
          "output_type": "stream",
          "name": "stdout",
          "text": [
            "/content\n"
          ]
        }
      ]
    },
    {
      "cell_type": "markdown",
      "metadata": {
        "id": "Xoa30WneEfu3"
      },
      "source": [
        "## 開始訓練神經網路以前，需要先建構網路，然後才開始訓練\n",
        "\n",
        "> 上面這裡是神經網路的核心組成方式，我們在全連接層建立了兩層，由一個有 512 個神經元的網路架構連接到 10 個神經元的輸出層。輸出層採用 softmax 表示數字 0~9 的機率分配，這 10 個數字的總和將會是 1。以下將我們建立的網路進行 compile，這裡詳細的參數以後會介紹。\n",
        "\n",
        "Reference: https://blog.toright.com/posts/6914/keras-mnist-helloworld.html"
      ]
    },
    {
      "cell_type": "code",
      "metadata": {
        "colab": {
          "base_uri": "https://localhost:8080/"
        },
        "id": "Bi7TNKjYD5T5",
        "outputId": "df106336-d5a7-402f-d14a-11be1d8a387d"
      },
      "source": [
        "from keras.datasets import mnist\n",
        " \n",
        "(train_images, train_labels), (test_images, test_labels) = mnist.load_data()"
      ],
      "execution_count": 1,
      "outputs": [
        {
          "output_type": "stream",
          "name": "stdout",
          "text": [
            "Downloading data from https://storage.googleapis.com/tensorflow/tf-keras-datasets/mnist.npz\n",
            "11493376/11490434 [==============================] - 0s 0us/step\n",
            "11501568/11490434 [==============================] - 0s 0us/step\n"
          ]
        }
      ]
    },
    {
      "cell_type": "code",
      "metadata": {
        "id": "3t9sY-SEEGEQ",
        "outputId": "f06b2ca6-d408-4293-844e-ad8ed8a1c8ea",
        "colab": {
          "base_uri": "https://localhost:8080/"
        }
      },
      "source": [
        "train_images.shape\n"
      ],
      "execution_count": 3,
      "outputs": [
        {
          "output_type": "execute_result",
          "data": {
            "text/plain": [
              "(60000, 28, 28)"
            ]
          },
          "metadata": {},
          "execution_count": 3
        }
      ]
    },
    {
      "cell_type": "code",
      "metadata": {
        "id": "jgGItPFXEPR4",
        "outputId": "189ae159-7c0b-4e37-df87-2508a5fac1e3",
        "colab": {
          "base_uri": "https://localhost:8080/"
        }
      },
      "source": [
        "len(train_labels)\n"
      ],
      "execution_count": 4,
      "outputs": [
        {
          "output_type": "execute_result",
          "data": {
            "text/plain": [
              "60000"
            ]
          },
          "metadata": {},
          "execution_count": 4
        }
      ]
    },
    {
      "cell_type": "code",
      "metadata": {
        "id": "Tupm3FVpEPFJ",
        "outputId": "d8c09178-fcbc-44fe-b5a6-dfcc19e18e2f",
        "colab": {
          "base_uri": "https://localhost:8080/"
        }
      },
      "source": [
        "train_labels\n"
      ],
      "execution_count": 5,
      "outputs": [
        {
          "output_type": "execute_result",
          "data": {
            "text/plain": [
              "array([5, 0, 4, ..., 5, 6, 8], dtype=uint8)"
            ]
          },
          "metadata": {},
          "execution_count": 5
        }
      ]
    },
    {
      "cell_type": "code",
      "metadata": {
        "id": "PqSZ6AP0ETFw",
        "outputId": "1886659d-7111-4efa-b134-2de3bb397af6",
        "colab": {
          "base_uri": "https://localhost:8080/"
        }
      },
      "source": [
        "test_images.shape\n"
      ],
      "execution_count": 6,
      "outputs": [
        {
          "output_type": "execute_result",
          "data": {
            "text/plain": [
              "(10000, 28, 28)"
            ]
          },
          "metadata": {},
          "execution_count": 6
        }
      ]
    },
    {
      "cell_type": "code",
      "metadata": {
        "id": "qw65jMRtEUgI",
        "outputId": "529730dd-7196-4b65-b5e6-25c5e0d15a2c",
        "colab": {
          "base_uri": "https://localhost:8080/"
        }
      },
      "source": [
        "len(test_labels)\n"
      ],
      "execution_count": 7,
      "outputs": [
        {
          "output_type": "execute_result",
          "data": {
            "text/plain": [
              "10000"
            ]
          },
          "metadata": {},
          "execution_count": 7
        }
      ]
    },
    {
      "cell_type": "code",
      "metadata": {
        "id": "jpjQ5SLgEVzZ",
        "outputId": "9b8cc158-ccbd-4e49-8f78-b75b6afe2553",
        "colab": {
          "base_uri": "https://localhost:8080/"
        }
      },
      "source": [
        "test_labels"
      ],
      "execution_count": 8,
      "outputs": [
        {
          "output_type": "execute_result",
          "data": {
            "text/plain": [
              "array([7, 2, 1, ..., 4, 5, 6], dtype=uint8)"
            ]
          },
          "metadata": {},
          "execution_count": 8
        }
      ]
    },
    {
      "cell_type": "code",
      "metadata": {
        "id": "jj72QQu6Eb8w"
      },
      "source": [
        "from keras import models\n",
        "from keras import layers\n",
        " \n",
        "network = models.Sequential()\n",
        "network.add(layers.Dense(512, activation='relu', input_shape=(28 * 28,)))\n",
        "network.add(layers.Dense(10, activation='softmax'))"
      ],
      "execution_count": 9,
      "outputs": []
    },
    {
      "cell_type": "code",
      "metadata": {
        "id": "Rb6yDN4SFSZ8"
      },
      "source": [
        "network.compile(optimizer='rmsprop',loss='categorical_crossentropy',metrics=['accuracy'])"
      ],
      "execution_count": 17,
      "outputs": []
    },
    {
      "cell_type": "markdown",
      "metadata": {
        "id": "JvQ794FbEhap"
      },
      "source": [
        ""
      ]
    },
    {
      "cell_type": "code",
      "metadata": {
        "id": "FF2MoCr1EdUp",
        "outputId": "b55b6f7f-e333-4f62-b762-f2b706e106f3",
        "colab": {
          "base_uri": "https://localhost:8080/"
        }
      },
      "source": [
        "# 以下將資料正規劃成為 0~1 的數值，變成 60000, 28x28 Shape 好送進上面定義的網路輸入層。\n",
        "fix_train_images = train_images.reshape((60000, 28 * 28)).astype('float32') / 255\n",
        "fix_test_images = test_images.reshape((10000, 28 * 28)).astype('float32') / 255\n",
        "print(len(fix_train_images), len(fix_test_images))"
      ],
      "execution_count": 18,
      "outputs": [
        {
          "output_type": "stream",
          "name": "stdout",
          "text": [
            "60000 10000\n"
          ]
        }
      ]
    },
    {
      "cell_type": "markdown",
      "metadata": {
        "id": "R_s6N23LE_HY"
      },
      "source": [
        "## 由於我們使用的 categorical_crossentropy 損失函數，因此將標記資料進行格式轉換"
      ]
    },
    {
      "cell_type": "code",
      "metadata": {
        "id": "ZGfUJuMTFJaJ"
      },
      "source": [
        "fix_train_images = train_images.reshape((60000, 28 * 28)).astype('float32') / 255\n",
        "fix_test_images = test_images.reshape((10000, 28 * 28)).astype('float32') / 255\n"
      ],
      "execution_count": 19,
      "outputs": []
    },
    {
      "cell_type": "code",
      "metadata": {
        "id": "ME4IRcRtE70h"
      },
      "source": [
        "#from keras.utils import to_categorical\n",
        "from tensorflow.keras.utils import to_categorical \n",
        "fix_train_labels = to_categorical(train_labels)\n",
        "fix_test_labels = to_categorical(test_labels)"
      ],
      "execution_count": 21,
      "outputs": []
    },
    {
      "cell_type": "markdown",
      "metadata": {
        "id": "bFW__VqPFpM4"
      },
      "source": [
        "## 開始訓練 MNIST 類神經網路, 進行訓練模型，預計訓練的正確率應該會在 0.989 左右"
      ]
    },
    {
      "cell_type": "code",
      "metadata": {
        "id": "4bIPVjbFFsK3"
      },
      "source": [
        "result = network.fit(\n",
        "    fix_train_images,\n",
        "    fix_train_labels,\n",
        "    epochs=20,\n",
        "    batch_size=128,\n",
        "    validation_data=(fix_test_images, fix_test_labels))"
      ],
      "execution_count": null,
      "outputs": []
    },
    {
      "cell_type": "code",
      "metadata": {
        "id": "I5K4WdSlGC6H",
        "outputId": "69d99bba-0cf4-4664-9afd-2f70f182fe31",
        "colab": {
          "base_uri": "https://localhost:8080/"
        }
      },
      "source": [
        "# 將訓練後的模型輸入測試資料進行評比，一般說這樣的正確率應該會在 0.977% 左右\n",
        "\n",
        "test_loss, test_acc = network.evaluate(fix_test_images, fix_test_labels)\n",
        "print('test_loss:', test_loss)\n",
        "print('test_acc:', test_acc)\n",
        "\n"
      ],
      "execution_count": 23,
      "outputs": [
        {
          "output_type": "stream",
          "name": "stdout",
          "text": [
            "313/313 [==============================] - 1s 2ms/step - loss: 0.0992 - accuracy: 0.9819\n",
            "test_loss: 0.09918143600225449\n",
            "test_acc: 0.9818999767303467\n"
          ]
        }
      ]
    },
    {
      "cell_type": "markdown",
      "metadata": {
        "id": "0W_7WYthGJv2"
      },
      "source": [
        "## 過度擬合 (Over Fitting)\n",
        "> 為什麽訓練時的正確率會高於驗證測試呢？在這樣數據中，由於模型訓練時對訓練資料造成些微的過度擬合 (Over Fitting) 。一般來說這樣的情況是正常的，未來我們可以透過參數的調整或其他方法提高正確性。"
      ]
    },
    {
      "cell_type": "markdown",
      "metadata": {
        "id": "4TcD8OeEGR7X"
      },
      "source": [
        "## 透過 Keras 圖表協助分析訓練過程\n",
        "由於訓練 Model 時會進行好幾次的 Epoch，每一次 Epoch 都是對訓練資料集進行一輪完整的訓練，妥善觀察每一次 Epoch 的數據是很重要地。我們可以透過 matplotlib 函式庫繪製圖表，幫我們進行分析。\n",
        "\n",
        "以下方式可以繪製訓練過程 Loss Function 對應的損失分數。Validation loss 不一定會跟隨 Training loss 一起降低，當 Model Over Fitting Train Data 時，就會發生 Validation loss 上升的情況。"
      ]
    },
    {
      "cell_type": "code",
      "metadata": {
        "id": "ixHAMEfbGO1X",
        "outputId": "c5a7cdda-cd14-48a7-8ac3-dc73ee54fcce",
        "colab": {
          "base_uri": "https://localhost:8080/",
          "height": 295
        }
      },
      "source": [
        "history_dict = result.history\n",
        " \n",
        "loss_values = history_dict['loss']\n",
        "val_loss_values = history_dict['val_loss']\n",
        "epochs = range(1, len(loss_values) + 1)\n",
        " \n",
        "import matplotlib.pyplot as plt\n",
        "plt.plot(epochs, loss_values, 'bo', label='Training loss')\n",
        "plt.plot(epochs, val_loss_values, 'b', label='Validation loss')\n",
        "plt.title('Training and validation loss')\n",
        "plt.xlabel('Epochs')\n",
        "plt.ylabel('Loss')\n",
        "plt.legend()\n",
        " \n",
        "plt.show()"
      ],
      "execution_count": 24,
      "outputs": [
        {
          "output_type": "display_data",
          "data": {
            "image/png": "[encoded data removed]",
            "text/plain": [
              "<Figure size 432x288 with 1 Axes>"
            ]
          },
          "metadata": {
            "needs_background": "light"
          }
        }
      ]
    },
    {
      "cell_type": "markdown",
      "metadata": {
        "id": "COe62bcWGecj"
      },
      "source": [
        "> 可以看到差不多在第8次 Epochs 就得到最佳解。此外，我們也可以透過以下程式可以繪製訓練過程的正確率變化。訓練的過程中，當 Accuracy 後期並有沒太大的變化，表示 Model 很快就在假設空間裡進行不錯的收斂。"
      ]
    },
    {
      "cell_type": "code",
      "metadata": {
        "id": "k9IwNS56Gbay",
        "outputId": "0f72f716-f0de-4438-f07f-c1fef4852350",
        "colab": {
          "base_uri": "https://localhost:8080/",
          "height": 295
        }
      },
      "source": [
        "plt.clf()\n",
        "acc = history_dict['accuracy']\n",
        "val_acc = history_dict['val_accuracy']\n",
        " \n",
        "plt.plot(epochs, acc, 'bo', label='Training acc')\n",
        "plt.plot(epochs, val_acc, 'b', label='Validation acc')\n",
        "plt.title('Training and validation accuracy')\n",
        "plt.xlabel('Epochs')\n",
        "plt.ylabel('Accuracy')\n",
        "plt.legend()\n",
        " \n",
        "plt.show()"
      ],
      "execution_count": 25,
      "outputs": [
        {
          "output_type": "display_data",
          "data": {
            "image/png": "[encoded data removed]",
            "text/plain": [
              "<Figure size 432x288 with 1 Axes>"
            ]
          },
          "metadata": {
            "needs_background": "light"
          }
        }
      ]
    }
  ]
}